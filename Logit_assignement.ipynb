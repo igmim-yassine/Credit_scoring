{
  "nbformat": 4,
  "nbformat_minor": 0,
  "metadata": {
    "kernelspec": {
      "display_name": "Python 3",
      "language": "python",
      "name": "python3"
    },
    "language_info": {
      "codemirror_mode": {
        "name": "ipython",
        "version": 3
      },
      "file_extension": ".py",
      "mimetype": "text/x-python",
      "name": "python",
      "nbconvert_exporter": "python",
      "pygments_lexer": "ipython3",
      "version": "3.7.4"
    },
    "toc": {
      "base_numbering": 1,
      "nav_menu": {},
      "number_sections": true,
      "sideBar": true,
      "skip_h1_title": false,
      "title_cell": "Table of Contents",
      "title_sidebar": "Contents",
      "toc_cell": false,
      "toc_position": {},
      "toc_section_display": true,
      "toc_window_display": false
    },
    "colab": {
      "name": "Logit.assignement.ipynb",
      "provenance": [],
      "collapsed_sections": [
        "eNCjzPIyZDZ2",
        "OtNWtq5Qdbn6",
        "q0XWJ-Zv6GGp",
        "F-fOHEUx8ZnW",
        "Emva0ZCyKG6p",
        "2nU41en06M1K",
        "Cu2i4FmlSdwa",
        "zHxzFSPL-hV3",
        "zJUg2CABGaUf",
        "tJszx6FXD9E-",
        "_-3kEkC4EEmy",
        "MbjBip9qEKzY",
        "Hj8GEzD0k7C3",
        "Ua-XM3yMHp8F",
        "dLMkloFNZF1e",
        "lJ0g2xfgYzdK"
      ]
    }
  },
  "cells": [
    {
      "cell_type": "markdown",
      "metadata": {
        "id": "BIWQUFF-ZDZt"
      },
      "source": [
        "# Projet pratique en python : Credit scoring\n"
      ]
    },
    {
      "cell_type": "code",
      "metadata": {
        "id": "4AQX4-54ZQBc",
        "colab": {
          "resources": {
            "http://localhost:8080/nbextensions/google.colab/files.js": {
              "data": "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",
              "ok": true,
              "headers": [
                [
                  "content-type",
                  "application/javascript"
                ]
              ],
              "status": 200,
              "status_text": ""
            }
          },
          "base_uri": "https://localhost:8080/",
          "height": 73
        },
        "outputId": "16de6c07-54ab-4198-f7b2-f2c5ad7ad735"
      },
      "source": [
        "# if u r using colab u can upload gro.csv\n",
        "from google.colab import files\n",
        "uploaded = files.upload()"
      ],
      "execution_count": 106,
      "outputs": [
        {
          "output_type": "display_data",
          "data": {
            "text/html": [
              "\n",
              "     <input type=\"file\" id=\"files-ffc6655b-8275-4fab-85d8-a8699fac550c\" name=\"files[]\" multiple disabled\n",
              "        style=\"border:none\" />\n",
              "     <output id=\"result-ffc6655b-8275-4fab-85d8-a8699fac550c\">\n",
              "      Upload widget is only available when the cell has been executed in the\n",
              "      current browser session. Please rerun this cell to enable.\n",
              "      </output>\n",
              "      <script src=\"/nbextensions/google.colab/files.js\"></script> "
            ],
            "text/plain": [
              "<IPython.core.display.HTML object>"
            ]
          },
          "metadata": {}
        },
        {
          "output_type": "stream",
          "name": "stdout",
          "text": [
            "Saving gro.csv to gro (1).csv\n"
          ]
        }
      ]
    },
    {
      "cell_type": "markdown",
      "metadata": {
        "id": "-k8DI-EHZDZw"
      },
      "source": [
        "Nous allons travailler sur le jeu de données `gro.csv` pour faire du **credit scoring**, qui a été proposé il y a quelques années sur un site de data challenge. C'est un vrai de jeu qui contient des données avec différents types de variable, des valeurs manquantes, etc. Nous devons donc faire un gros travail de préparation de données.\n",
        "Les données contiennent les colonnes suivantes :\n",
        "\n",
        "| Nom de la colonne    | Description |\n",
        "|:---------------------|:------------|\n",
        "| BirthDate            | Date of birth of the client |\n",
        "| Customer_Open_Date   | Creation date of the client's first account at the bank |\n",
        "| Customer_Type        | Type of client (existing / new) | \n",
        "| Educational_Level    | Highest diploma |\n",
        "| Id_Customer          | Id of the client |\n",
        "| Marital_Status       | Family situation |\n",
        "| Nb_Of_Products       | Number of products held by the client |\n",
        "| Net_Annual_Income    | Annual revenue |\n",
        "| Number_Of_Dependant  | Number of dependents |\n",
        "| P_Client             | Non-disclosed feature |\n",
        "| Prod_Category        | Product category |\n",
        "| Prod_Closed_Date     | Closing date of the last product |\n",
        "| Prod_Decision_Date   | Decision date of the last agreement for a financing product |\n",
        "| Prod_Sub_Category    | Sub-category of the product |\n",
        "| Source               | Financing source (Branch or Sales) |\n",
        "| Type_Of_Residence    | Residential situation |\n",
        "| Y                    | Credit was granted (yes / no) |\n",
        "| Years_At_Business    | Number of year at the current job position |\n",
        "| Years_At_Residence   | Number of year at the current housing |\n",
        "\n",
        "Dans ce projet, l'objectif est de prédire la réponse Y (Credit was granted yes / no) en fonction des autres prédicteurs. Vous pourrez utiliser les méthodes de classification vues en cours (régression logistique / régression logistique pénalisée). Vous serez évalués sur plusieurs étapes :\n",
        "\n",
        "* Préparer le jeu de données : complétion des données manquantes, détermination du type de chaque feature, création de la matrice de design et du vecteur de réponse.\n",
        "\n",
        "* Entraînement de plusieurs modèles de régression logistique, avec ou sans pénalité, essai de différentes pénalisation, choix des hyper-paramètres\n",
        "\n",
        "* Comparaison des résultats obtenus et conclusion.\n",
        "\n",
        "Pour la prise en compte des données manquantes, voici ci-dessous quelques pistes.\n"
      ]
    },
    {
      "cell_type": "markdown",
      "metadata": {
        "id": "XCBaRgI9ZDZy"
      },
      "source": [
        "On commence par importer les données via `pd.read_csv` en changeant le séparateur par défaut."
      ]
    },
    {
      "cell_type": "code",
      "metadata": {
        "ExecuteTime": {
          "end_time": "2020-10-09T14:04:01.662026Z",
          "start_time": "2020-10-09T14:04:01.639671Z"
        },
        "id": "YKT3OWzIZDZz"
      },
      "source": [
        "import numpy as np\n",
        "import pandas as pd\n",
        "import matplotlib.pyplot as plt\n",
        "import seaborn as sns\n",
        "import pickle as pkl\n",
        "from sklearn.preprocessing import StandardScaler, RobustScaler\n",
        "from sklearn.model_selection import train_test_split\n",
        "from sklearn.model_selection import StratifiedShuffleSplit\n",
        "from sklearn.model_selection import StratifiedKFold\n",
        "from sklearn.model_selection import cross_val_score\n",
        "from sklearn.linear_model import LogisticRegression\n",
        "from sklearn.model_selection import GridSearchCV\n",
        "\n",
        "# Other Libraries\n",
        "from sklearn.model_selection import train_test_split\n",
        "from sklearn.pipeline import make_pipeline\n",
        "from imblearn.pipeline import make_pipeline as imbalanced_make_pipeline\n",
        "from imblearn.over_sampling import SMOTE\n",
        "from imblearn.under_sampling import NearMiss\n",
        "from imblearn.metrics import classification_report_imbalanced\n",
        "from sklearn.metrics import precision_score, recall_score, f1_score, roc_auc_score, accuracy_score, classification_report\n",
        "from collections import Counter\n",
        "from sklearn.model_selection import KFold, StratifiedKFold\n",
        "\n",
        "\n",
        "import datetime\n",
        "from datetime import date, timedelta, datetime\n",
        "from pandas import Timestamp\n",
        "import warnings\n",
        "warnings.filterwarnings(\"ignore\")\n",
        "\n",
        "%matplotlib inline\n",
        "\n",
        "sns.set_context(\"notebook\", font_scale=1.2)\n"
      ],
      "execution_count": 107,
      "outputs": []
    },
    {
      "cell_type": "code",
      "metadata": {
        "ExecuteTime": {
          "end_time": "2020-10-09T14:04:22.604388Z",
          "start_time": "2020-10-09T14:04:22.587684Z"
        },
        "id": "JhRq3ROkZDZ0"
      },
      "source": [
        "gro_dtypes = {\n",
        "    'Years_At_Residence': np.int,\n",
        "    'Net_Annual_Income' : np.float,\n",
        "    'Years_At_Business': np.float,\n",
        "    'Number_Of_Dependant': np.float,\n",
        "    'Nb_Of_Products': np.int,\n",
        "    'Customer_Type': 'category',\n",
        "    'P_Client': 'category',\n",
        "    'Educational_Level': 'category',\n",
        "    'Marital_Status': 'category',\n",
        "    'Prod_Sub_Category': 'category',\n",
        "    'Source': 'category',\n",
        "    'Type_Of_Residence': 'category',\n",
        "    'Prod_Category': 'category',\n",
        "}\n",
        "\n",
        "df = pd.read_csv(\n",
        "    # Filename\n",
        "    \"gro.csv\",\n",
        "    # Column separator\n",
        "    sep=';',\n",
        "    # Decimal separator\n",
        "    decimal=',',\n",
        "    # Range of the columns to keep (remove the last three ones)\n",
        "    usecols=range(19),\n",
        "    # Which columns should be parsed as dates\n",
        "    parse_dates=['BirthDate', 'Customer_Open_Date', 'Prod_Decision_Date', \n",
        "                 'Prod_Closed_Date'],\n",
        "    # Specify some dtypes\n",
        "    dtype=gro_dtypes\n",
        ")"
      ],
      "execution_count": 108,
      "outputs": []
    },
    {
      "cell_type": "code",
      "metadata": {
        "id": "lXpcEibuZDZ1",
        "colab": {
          "base_uri": "https://localhost:8080/",
          "height": 308
        },
        "outputId": "ea449121-6baa-44a5-e6bd-71788871022b"
      },
      "source": [
        "df.head(n=5)"
      ],
      "execution_count": 209,
      "outputs": [
        {
          "output_type": "execute_result",
          "data": {
            "text/html": [
              "<div>\n",
              "<style scoped>\n",
              "    .dataframe tbody tr th:only-of-type {\n",
              "        vertical-align: middle;\n",
              "    }\n",
              "\n",
              "    .dataframe tbody tr th {\n",
              "        vertical-align: top;\n",
              "    }\n",
              "\n",
              "    .dataframe thead th {\n",
              "        text-align: right;\n",
              "    }\n",
              "</style>\n",
              "<table border=\"1\" class=\"dataframe\">\n",
              "  <thead>\n",
              "    <tr style=\"text-align: right;\">\n",
              "      <th></th>\n",
              "      <th>Id_Customer</th>\n",
              "      <th>Y</th>\n",
              "      <th>Customer_Type</th>\n",
              "      <th>BirthDate</th>\n",
              "      <th>Customer_Open_Date</th>\n",
              "      <th>P_Client</th>\n",
              "      <th>Educational_Level</th>\n",
              "      <th>Marital_Status</th>\n",
              "      <th>Number_Of_Dependant</th>\n",
              "      <th>Years_At_Residence</th>\n",
              "      <th>Net_Annual_Income</th>\n",
              "      <th>Years_At_Business</th>\n",
              "      <th>Prod_Sub_Category</th>\n",
              "      <th>Prod_Decision_Date</th>\n",
              "      <th>Source</th>\n",
              "      <th>Type_Of_Residence</th>\n",
              "      <th>Nb_Of_Products</th>\n",
              "      <th>Prod_Closed_Date</th>\n",
              "      <th>Prod_Category</th>\n",
              "    </tr>\n",
              "  </thead>\n",
              "  <tbody>\n",
              "    <tr>\n",
              "      <th>0</th>\n",
              "      <td>6714</td>\n",
              "      <td>0</td>\n",
              "      <td>Non Existing Client</td>\n",
              "      <td>1971-02-09</td>\n",
              "      <td>2012-01-18</td>\n",
              "      <td>NP_Client</td>\n",
              "      <td>University</td>\n",
              "      <td>Married</td>\n",
              "      <td>3.0</td>\n",
              "      <td>10</td>\n",
              "      <td>36.0</td>\n",
              "      <td>3.0</td>\n",
              "      <td>C</td>\n",
              "      <td>2012-01-23</td>\n",
              "      <td>Sales</td>\n",
              "      <td>Owned</td>\n",
              "      <td>1</td>\n",
              "      <td>NaT</td>\n",
              "      <td>B</td>\n",
              "    </tr>\n",
              "    <tr>\n",
              "      <th>1</th>\n",
              "      <td>7440</td>\n",
              "      <td>0</td>\n",
              "      <td>Non Existing Client</td>\n",
              "      <td>1977-07-08</td>\n",
              "      <td>2012-02-13</td>\n",
              "      <td>NP_Client</td>\n",
              "      <td>University</td>\n",
              "      <td>Married</td>\n",
              "      <td>3.0</td>\n",
              "      <td>1</td>\n",
              "      <td>36.0</td>\n",
              "      <td>1.0</td>\n",
              "      <td>C</td>\n",
              "      <td>2012-02-14</td>\n",
              "      <td>Sales</td>\n",
              "      <td>Owned</td>\n",
              "      <td>1</td>\n",
              "      <td>NaT</td>\n",
              "      <td>B</td>\n",
              "    </tr>\n",
              "    <tr>\n",
              "      <th>2</th>\n",
              "      <td>573</td>\n",
              "      <td>0</td>\n",
              "      <td>Existing Client</td>\n",
              "      <td>1974-06-13</td>\n",
              "      <td>2009-04-02</td>\n",
              "      <td>P_Client</td>\n",
              "      <td>University</td>\n",
              "      <td>Married</td>\n",
              "      <td>0.0</td>\n",
              "      <td>12</td>\n",
              "      <td>18.0</td>\n",
              "      <td>2.0</td>\n",
              "      <td>C</td>\n",
              "      <td>2011-06-30</td>\n",
              "      <td>Sales</td>\n",
              "      <td>Parents</td>\n",
              "      <td>1</td>\n",
              "      <td>NaT</td>\n",
              "      <td>G</td>\n",
              "    </tr>\n",
              "    <tr>\n",
              "      <th>3</th>\n",
              "      <td>9194</td>\n",
              "      <td>0</td>\n",
              "      <td>Non Existing Client</td>\n",
              "      <td>1973-07-11</td>\n",
              "      <td>2012-03-04</td>\n",
              "      <td>NP_Client</td>\n",
              "      <td>University</td>\n",
              "      <td>Married</td>\n",
              "      <td>2.0</td>\n",
              "      <td>10</td>\n",
              "      <td>36.0</td>\n",
              "      <td>1.0</td>\n",
              "      <td>C</td>\n",
              "      <td>2012-04-04</td>\n",
              "      <td>Sales</td>\n",
              "      <td>Owned</td>\n",
              "      <td>1</td>\n",
              "      <td>NaT</td>\n",
              "      <td>B</td>\n",
              "    </tr>\n",
              "    <tr>\n",
              "      <th>4</th>\n",
              "      <td>3016</td>\n",
              "      <td>1</td>\n",
              "      <td>Existing Client</td>\n",
              "      <td>1982-08-07</td>\n",
              "      <td>2011-08-25</td>\n",
              "      <td>NP_Client</td>\n",
              "      <td>University</td>\n",
              "      <td>Married</td>\n",
              "      <td>3.0</td>\n",
              "      <td>3</td>\n",
              "      <td>36.0</td>\n",
              "      <td>1.0</td>\n",
              "      <td>C</td>\n",
              "      <td>2011-07-09</td>\n",
              "      <td>Sales</td>\n",
              "      <td>New rent</td>\n",
              "      <td>1</td>\n",
              "      <td>2012-12-31</td>\n",
              "      <td>L</td>\n",
              "    </tr>\n",
              "  </tbody>\n",
              "</table>\n",
              "</div>"
            ],
            "text/plain": [
              "   Id_Customer  Y  ... Prod_Closed_Date Prod_Category\n",
              "0         6714  0  ...              NaT             B\n",
              "1         7440  0  ...              NaT             B\n",
              "2          573  0  ...              NaT             G\n",
              "3         9194  0  ...              NaT             B\n",
              "4         3016  1  ...       2012-12-31             L\n",
              "\n",
              "[5 rows x 19 columns]"
            ]
          },
          "metadata": {},
          "execution_count": 209
        }
      ]
    },
    {
      "cell_type": "code",
      "metadata": {
        "id": "lGckgDa4ZDZ2",
        "colab": {
          "base_uri": "https://localhost:8080/"
        },
        "outputId": "9d23d49b-7854-4c1b-eb22-d82e7c6f0f74"
      },
      "source": [
        "df.shape"
      ],
      "execution_count": 6,
      "outputs": [
        {
          "output_type": "execute_result",
          "data": {
            "text/plain": [
              "(6725, 19)"
            ]
          },
          "metadata": {},
          "execution_count": 6
        }
      ]
    },
    {
      "cell_type": "markdown",
      "metadata": {
        "id": "Oy2JpMELmbr6"
      },
      "source": [
        "Our data conatins 6725 observations and 19 variables."
      ]
    },
    {
      "cell_type": "markdown",
      "metadata": {
        "id": "eNCjzPIyZDZ2"
      },
      "source": [
        "## Data Cleaning\n"
      ]
    },
    {
      "cell_type": "code",
      "metadata": {
        "ExecuteTime": {
          "end_time": "2020-10-09T14:04:05.631032Z",
          "start_time": "2020-10-09T14:04:05.622705Z"
        },
        "id": "v0I3LDDrZDZ3",
        "colab": {
          "base_uri": "https://localhost:8080/"
        },
        "outputId": "6cb47112-2212-498b-9452-f72d2f4f9e0a"
      },
      "source": [
        "df.isnull().sum()"
      ],
      "execution_count": 109,
      "outputs": [
        {
          "output_type": "execute_result",
          "data": {
            "text/plain": [
              "Id_Customer               0\n",
              "Y                         0\n",
              "Customer_Type             0\n",
              "BirthDate                 0\n",
              "Customer_Open_Date        0\n",
              "P_Client                  0\n",
              "Educational_Level         0\n",
              "Marital_Status            0\n",
              "Number_Of_Dependant       2\n",
              "Years_At_Residence        0\n",
              "Net_Annual_Income         3\n",
              "Years_At_Business         4\n",
              "Prod_Sub_Category         0\n",
              "Prod_Decision_Date        0\n",
              "Source                    0\n",
              "Type_Of_Residence         0\n",
              "Nb_Of_Products            0\n",
              "Prod_Closed_Date       5291\n",
              "Prod_Category             0\n",
              "dtype: int64"
            ]
          },
          "metadata": {},
          "execution_count": 109
        }
      ]
    },
    {
      "cell_type": "markdown",
      "metadata": {
        "id": "1H7XXSLNZDZ3"
      },
      "source": [
        "C'est sur la colonne `Prod_Closed_Date` que se trouvent le plus grand nombre de valeurs manquantes, une solution est de la retirer. On peut également créer une nouvelle variable qui indique si `Prod_Closed_Date`est manquant ou non"
      ]
    },
    {
      "cell_type": "code",
      "metadata": {
        "id": "QLRVVD5eZDZ4"
      },
      "source": [
        "# we ll replace Prod_Closed_Date by the columns that determines if it s missng or not\n",
        "\n",
        "df ['Prod_Closed_Date'] = df[['Prod_Closed_Date']].isnull()"
      ],
      "execution_count": 110,
      "outputs": []
    },
    {
      "cell_type": "code",
      "metadata": {
        "colab": {
          "base_uri": "https://localhost:8080/",
          "height": 0
        },
        "id": "_SS6gd9jw5Xo",
        "outputId": "4271eba3-962f-4c48-a8bf-b19ff70fa3d3"
      },
      "source": [
        "# for Number_Of_Dependant, Net_Annual_Income & Years_At_Business lets see how they r distributed and then decide the missing values imputation method\n",
        "\n",
        "f, axes = plt.subplots(1, 3, figsize=(20,5))\n",
        "\n",
        "sns.histplot(df.Number_Of_Dependant, bins = 30, ax=axes[0])\n",
        "sns.histplot(df.Net_Annual_Income, bins = 30, ax=axes[1])\n",
        "sns.histplot(df.Years_At_Business,  bins = 30, ax=axes[2])\n",
        "\n",
        "f.tight_layout()"
      ],
      "execution_count": 111,
      "outputs": [
        {
          "output_type": "display_data",
          "data": {
            "image/png": "[encoded data removed]",
            "text/plain": [
              "<Figure size 1440x360 with 3 Axes>"
            ]
          },
          "metadata": {
            "needs_background": "light"
          }
        }
      ]
    },
    {
      "cell_type": "markdown",
      "metadata": {
        "id": "7o6dtIkp06Gm"
      },
      "source": [
        "As we can see, the three distributions are skewed. Imputation with median would be better"
      ]
    },
    {
      "cell_type": "code",
      "metadata": {
        "id": "YnsUCBIN1RbW"
      },
      "source": [
        "# imptation with median\n",
        "\n",
        "df['Number_Of_Dependant'].fillna((df.Number_Of_Dependant.median()), inplace=True)\n",
        "df['Net_Annual_Income'].fillna((df.Net_Annual_Income.median()), inplace=True)\n",
        "df['Years_At_Business'].fillna((df.Years_At_Business.median()), inplace=True)"
      ],
      "execution_count": 112,
      "outputs": []
    },
    {
      "cell_type": "code",
      "metadata": {
        "colab": {
          "base_uri": "https://localhost:8080/"
        },
        "id": "DoTuGdVF1TDf",
        "outputId": "4fcffb49-1be1-4a81-ef50-2026428da101"
      },
      "source": [
        "# missing values double check\n",
        "df.isnull().sum()"
      ],
      "execution_count": 113,
      "outputs": [
        {
          "output_type": "execute_result",
          "data": {
            "text/plain": [
              "Id_Customer            0\n",
              "Y                      0\n",
              "Customer_Type          0\n",
              "BirthDate              0\n",
              "Customer_Open_Date     0\n",
              "P_Client               0\n",
              "Educational_Level      0\n",
              "Marital_Status         0\n",
              "Number_Of_Dependant    0\n",
              "Years_At_Residence     0\n",
              "Net_Annual_Income      0\n",
              "Years_At_Business      0\n",
              "Prod_Sub_Category      0\n",
              "Prod_Decision_Date     0\n",
              "Source                 0\n",
              "Type_Of_Residence      0\n",
              "Nb_Of_Products         0\n",
              "Prod_Closed_Date       0\n",
              "Prod_Category          0\n",
              "dtype: int64"
            ]
          },
          "metadata": {},
          "execution_count": 113
        }
      ]
    },
    {
      "cell_type": "markdown",
      "metadata": {
        "id": "OtNWtq5Qdbn6"
      },
      "source": [
        "\n",
        "\n",
        "\n",
        "## Data Exploration \n",
        "\n",
        "\n",
        "\n"
      ]
    },
    {
      "cell_type": "code",
      "metadata": {
        "colab": {
          "base_uri": "https://localhost:8080/"
        },
        "id": "SgHcVGn1fQyL",
        "outputId": "9e5e1093-cf7b-4350-f0f8-4c31f5742e31"
      },
      "source": [
        "# featues infos\n",
        "df.info()"
      ],
      "execution_count": 114,
      "outputs": [
        {
          "output_type": "stream",
          "name": "stdout",
          "text": [
            "<class 'pandas.core.frame.DataFrame'>\n",
            "RangeIndex: 6725 entries, 0 to 6724\n",
            "Data columns (total 19 columns):\n",
            " #   Column               Non-Null Count  Dtype         \n",
            "---  ------               --------------  -----         \n",
            " 0   Id_Customer          6725 non-null   int64         \n",
            " 1   Y                    6725 non-null   int64         \n",
            " 2   Customer_Type        6725 non-null   category      \n",
            " 3   BirthDate            6725 non-null   datetime64[ns]\n",
            " 4   Customer_Open_Date   6725 non-null   datetime64[ns]\n",
            " 5   P_Client             6725 non-null   category      \n",
            " 6   Educational_Level    6725 non-null   category      \n",
            " 7   Marital_Status       6725 non-null   category      \n",
            " 8   Number_Of_Dependant  6725 non-null   float64       \n",
            " 9   Years_At_Residence   6725 non-null   int64         \n",
            " 10  Net_Annual_Income    6725 non-null   float64       \n",
            " 11  Years_At_Business    6725 non-null   float64       \n",
            " 12  Prod_Sub_Category    6725 non-null   category      \n",
            " 13  Prod_Decision_Date   6725 non-null   datetime64[ns]\n",
            " 14  Source               6725 non-null   category      \n",
            " 15  Type_Of_Residence    6725 non-null   category      \n",
            " 16  Nb_Of_Products       6725 non-null   int64         \n",
            " 17  Prod_Closed_Date     6725 non-null   bool          \n",
            " 18  Prod_Category        6725 non-null   category      \n",
            "dtypes: bool(1), category(8), datetime64[ns](3), float64(3), int64(4)\n",
            "memory usage: 586.2 KB\n"
          ]
        }
      ]
    },
    {
      "cell_type": "code",
      "metadata": {
        "colab": {
          "base_uri": "https://localhost:8080/"
        },
        "id": "TLYYJTG6fQ4D",
        "outputId": "ccebb1f4-c07c-48cd-9988-da3c233ebb9f"
      },
      "source": [
        "# balance check\n",
        "df.groupby('Y')['Id_Customer'].count()"
      ],
      "execution_count": 115,
      "outputs": [
        {
          "output_type": "execute_result",
          "data": {
            "text/plain": [
              "Y\n",
              "0    6235\n",
              "1     490\n",
              "Name: Id_Customer, dtype: int64"
            ]
          },
          "metadata": {},
          "execution_count": 115
        }
      ]
    },
    {
      "cell_type": "code",
      "metadata": {
        "colab": {
          "base_uri": "https://localhost:8080/",
          "height": 0
        },
        "id": "_JePWxSlgi4p",
        "outputId": "8f033ee3-6c15-4730-e945-d3b14e28566e"
      },
      "source": [
        "# response distribution\n",
        "\n",
        "ax = sns.countplot(y=df.Y.values).set(title='response values count')\n",
        "\n",
        "\n",
        "print('Distribution of the target:')\n",
        "df.Y.value_counts()/df.shape[0]"
      ],
      "execution_count": 116,
      "outputs": [
        {
          "output_type": "stream",
          "name": "stdout",
          "text": [
            "Distribution of the target:\n"
          ]
        },
        {
          "output_type": "execute_result",
          "data": {
            "text/plain": [
              "0    0.927138\n",
              "1    0.072862\n",
              "Name: Y, dtype: float64"
            ]
          },
          "metadata": {},
          "execution_count": 116
        },
        {
          "output_type": "display_data",
          "data": {
            "image/png": "[encoded data removed]",
            "text/plain": [
              "<Figure size 432x288 with 1 Axes>"
            ]
          },
          "metadata": {
            "needs_background": "light"
          }
        }
      ]
    },
    {
      "cell_type": "markdown",
      "metadata": {
        "id": "FB5rw4CBo-Vk"
      },
      "source": [
        "Imbalanced problem :\n",
        "the original dataframe is heavily imbalanced! Using the original dataframe will cause overfitting which means that our classification models will assume that in most cases there are no/0."
      ]
    },
    {
      "cell_type": "code",
      "metadata": {
        "colab": {
          "base_uri": "https://localhost:8080/",
          "height": 0
        },
        "id": "T3s2vmB6fQ9g",
        "outputId": "e348da71-d7f4-4930-b5c3-20c520cf3c5d"
      },
      "source": [
        "# numeric vars stats\n",
        "\n",
        "df.iloc[:,1:].describe()"
      ],
      "execution_count": 117,
      "outputs": [
        {
          "output_type": "execute_result",
          "data": {
            "text/html": [
              "<div>\n",
              "<style scoped>\n",
              "    .dataframe tbody tr th:only-of-type {\n",
              "        vertical-align: middle;\n",
              "    }\n",
              "\n",
              "    .dataframe tbody tr th {\n",
              "        vertical-align: top;\n",
              "    }\n",
              "\n",
              "    .dataframe thead th {\n",
              "        text-align: right;\n",
              "    }\n",
              "</style>\n",
              "<table border=\"1\" class=\"dataframe\">\n",
              "  <thead>\n",
              "    <tr style=\"text-align: right;\">\n",
              "      <th></th>\n",
              "      <th>Y</th>\n",
              "      <th>Number_Of_Dependant</th>\n",
              "      <th>Years_At_Residence</th>\n",
              "      <th>Net_Annual_Income</th>\n",
              "      <th>Years_At_Business</th>\n",
              "      <th>Nb_Of_Products</th>\n",
              "    </tr>\n",
              "  </thead>\n",
              "  <tbody>\n",
              "    <tr>\n",
              "      <th>count</th>\n",
              "      <td>6725.000000</td>\n",
              "      <td>6725.000000</td>\n",
              "      <td>6725.000000</td>\n",
              "      <td>6725.000000</td>\n",
              "      <td>6725.000000</td>\n",
              "      <td>6725.000000</td>\n",
              "    </tr>\n",
              "    <tr>\n",
              "      <th>mean</th>\n",
              "      <td>0.072862</td>\n",
              "      <td>1.051301</td>\n",
              "      <td>12.564758</td>\n",
              "      <td>60.931821</td>\n",
              "      <td>4.263792</td>\n",
              "      <td>1.086840</td>\n",
              "    </tr>\n",
              "    <tr>\n",
              "      <th>std</th>\n",
              "      <td>0.259930</td>\n",
              "      <td>1.332637</td>\n",
              "      <td>9.986257</td>\n",
              "      <td>235.817837</td>\n",
              "      <td>7.253833</td>\n",
              "      <td>0.295033</td>\n",
              "    </tr>\n",
              "    <tr>\n",
              "      <th>min</th>\n",
              "      <td>0.000000</td>\n",
              "      <td>0.000000</td>\n",
              "      <td>0.000000</td>\n",
              "      <td>0.001000</td>\n",
              "      <td>0.000000</td>\n",
              "      <td>1.000000</td>\n",
              "    </tr>\n",
              "    <tr>\n",
              "      <th>25%</th>\n",
              "      <td>0.000000</td>\n",
              "      <td>0.000000</td>\n",
              "      <td>4.000000</td>\n",
              "      <td>20.000000</td>\n",
              "      <td>1.000000</td>\n",
              "      <td>1.000000</td>\n",
              "    </tr>\n",
              "    <tr>\n",
              "      <th>50%</th>\n",
              "      <td>0.000000</td>\n",
              "      <td>0.000000</td>\n",
              "      <td>10.000000</td>\n",
              "      <td>36.000000</td>\n",
              "      <td>1.000000</td>\n",
              "      <td>1.000000</td>\n",
              "    </tr>\n",
              "    <tr>\n",
              "      <th>75%</th>\n",
              "      <td>0.000000</td>\n",
              "      <td>2.000000</td>\n",
              "      <td>17.000000</td>\n",
              "      <td>36.000000</td>\n",
              "      <td>4.000000</td>\n",
              "      <td>1.000000</td>\n",
              "    </tr>\n",
              "    <tr>\n",
              "      <th>max</th>\n",
              "      <td>1.000000</td>\n",
              "      <td>20.000000</td>\n",
              "      <td>73.000000</td>\n",
              "      <td>10000.000000</td>\n",
              "      <td>98.000000</td>\n",
              "      <td>3.000000</td>\n",
              "    </tr>\n",
              "  </tbody>\n",
              "</table>\n",
              "</div>"
            ],
            "text/plain": [
              "                 Y  Number_Of_Dependant  ...  Years_At_Business  Nb_Of_Products\n",
              "count  6725.000000          6725.000000  ...        6725.000000     6725.000000\n",
              "mean      0.072862             1.051301  ...           4.263792        1.086840\n",
              "std       0.259930             1.332637  ...           7.253833        0.295033\n",
              "min       0.000000             0.000000  ...           0.000000        1.000000\n",
              "25%       0.000000             0.000000  ...           1.000000        1.000000\n",
              "50%       0.000000             0.000000  ...           1.000000        1.000000\n",
              "75%       0.000000             2.000000  ...           4.000000        1.000000\n",
              "max       1.000000            20.000000  ...          98.000000        3.000000\n",
              "\n",
              "[8 rows x 6 columns]"
            ]
          },
          "metadata": {},
          "execution_count": 117
        }
      ]
    },
    {
      "cell_type": "markdown",
      "metadata": {
        "id": "6oPwjZYLnqvM"
      },
      "source": [
        "Since the mean changes from a varibales to another between 1 and 60, therefore a scaling should be done on the data"
      ]
    },
    {
      "cell_type": "code",
      "metadata": {
        "id": "Yrt9wPTE1ZJk",
        "colab": {
          "base_uri": "https://localhost:8080/",
          "height": 0
        },
        "outputId": "84a803c9-6c98-44e0-9e90-b7125cc915d5"
      },
      "source": [
        "# categories stats\n",
        "\n",
        "f, axes = plt.subplots(3, 3, figsize=(24,12))\n",
        "\n",
        "sns.countplot(y=df.Customer_Type.values,hue=df.Y,ax=axes[0][0]).set(title='Customer_Typet')\n",
        "sns.countplot(y=df.P_Client.values,hue=df.Y,ax=axes[0][1]).set(title='P_Client')\n",
        "sns.countplot(y=df.Educational_Level.values,hue = df.Y,ax=axes[0][2]).set(title='Educational_Level')\n",
        "sns.countplot(y=df.Marital_Status.values,hue = df.Y,ax=axes[1][0]).set(title='Marital_Status')\n",
        "sns.countplot(y=df.Prod_Sub_Category.values,hue = df.Y,ax=axes[1][1]).set(title='Prod_Sub_Category')\n",
        "sns.countplot(y=df.Source.values,hue = df.Y,ax=axes[1][2]).set(title='Source')\n",
        "sns.countplot(y=df.Type_Of_Residence.values,hue = df.Y,ax=axes[2][0]).set(title='Type_Of_Residence')\n",
        "sns.countplot(y=df.Prod_Category.values,hue = df.Y,ax=axes[2][1]).set(title='Prod_Category')\n",
        "sns.countplot(y=df.Prod_Closed_Date.values,hue = df.Y,ax=axes[2][2]).set(title='Prod_Closed_Date')\n",
        "\n",
        "\n",
        "plt.tight_layout()"
      ],
      "execution_count": 118,
      "outputs": [
        {
          "output_type": "display_data",
          "data": {
            "image/png": "[encoded data removed]",
            "text/plain": [
              "<Figure size 1728x864 with 9 Axes>"
            ]
          },
          "metadata": {
            "needs_background": "light"
          }
        }
      ]
    },
    {
      "cell_type": "markdown",
      "metadata": {
        "id": "wKBqSfLV5GWp"
      },
      "source": [
        "Description of figures above, in the grand scheme of things :\n",
        "\n",
        "- The credit demands that correspond to \"University\" education level are representing the majority compared to other education levels since university students aren't capable tp pay the university fees without having a credit.\n",
        "- For the marital status, we can say that married people have more responsabilities that requiere finacial capital ( Home, car, marriage fees...etc)\n",
        "- According to our dataset, we perceive that Sales (financial source) category are those with more interest in having credit than Branch category, but the odds of acceptng/rejecting the credit remain almost the same.\n",
        "- In terms of Product category, we notice that product B and L corresponds to the most accepted credits. However, the ratio accepted/rejected are starkly different in such a way that L is accepted more than B. We can ostensibly assume that product L helps more in having a credit than other ones. \n",
        "\n"
      ]
    },
    {
      "cell_type": "markdown",
      "metadata": {
        "id": "q0XWJ-Zv6GGp"
      },
      "source": [
        "## Features engineering\n",
        "\n",
        "In this step, we will :\n",
        "\n",
        "- detect outliers.\n",
        "- add new variables (example : age from birthday date)\n",
        "- encode categories (replace categories labels with numbers)"
      ]
    },
    {
      "cell_type": "markdown",
      "metadata": {
        "id": "F-fOHEUx8ZnW"
      },
      "source": [
        "### Outliers\n",
        "The simplest way to detect an outlier is by graphing the features or the data points. Visualization is one of the best and easiest ways to have an inference about the overall data and the outliers. Scatter plots and box plots are the most preferred visualization tools to detect outliers. Based on the previous distributions of Number_Of_Dependant, Net_Annual_Income, Years_At_Business, we assumed the presence of some outliers. To confirm this assumption, we will visualize these variables with scatter and box plots. "
      ]
    },
    {
      "cell_type": "code",
      "metadata": {
        "colab": {
          "base_uri": "https://localhost:8080/",
          "height": 0
        },
        "id": "_DN_ACIL9lE2",
        "outputId": "157e2c88-3d6b-4618-a48c-6ba1cd655be3"
      },
      "source": [
        "df.head()"
      ],
      "execution_count": 119,
      "outputs": [
        {
          "output_type": "execute_result",
          "data": {
            "text/html": [
              "<div>\n",
              "<style scoped>\n",
              "    .dataframe tbody tr th:only-of-type {\n",
              "        vertical-align: middle;\n",
              "    }\n",
              "\n",
              "    .dataframe tbody tr th {\n",
              "        vertical-align: top;\n",
              "    }\n",
              "\n",
              "    .dataframe thead th {\n",
              "        text-align: right;\n",
              "    }\n",
              "</style>\n",
              "<table border=\"1\" class=\"dataframe\">\n",
              "  <thead>\n",
              "    <tr style=\"text-align: right;\">\n",
              "      <th></th>\n",
              "      <th>Id_Customer</th>\n",
              "      <th>Y</th>\n",
              "      <th>Customer_Type</th>\n",
              "      <th>BirthDate</th>\n",
              "      <th>Customer_Open_Date</th>\n",
              "      <th>P_Client</th>\n",
              "      <th>Educational_Level</th>\n",
              "      <th>Marital_Status</th>\n",
              "      <th>Number_Of_Dependant</th>\n",
              "      <th>Years_At_Residence</th>\n",
              "      <th>Net_Annual_Income</th>\n",
              "      <th>Years_At_Business</th>\n",
              "      <th>Prod_Sub_Category</th>\n",
              "      <th>Prod_Decision_Date</th>\n",
              "      <th>Source</th>\n",
              "      <th>Type_Of_Residence</th>\n",
              "      <th>Nb_Of_Products</th>\n",
              "      <th>Prod_Closed_Date</th>\n",
              "      <th>Prod_Category</th>\n",
              "    </tr>\n",
              "  </thead>\n",
              "  <tbody>\n",
              "    <tr>\n",
              "      <th>0</th>\n",
              "      <td>6714</td>\n",
              "      <td>0</td>\n",
              "      <td>Non Existing Client</td>\n",
              "      <td>1971-02-09</td>\n",
              "      <td>2012-01-18</td>\n",
              "      <td>NP_Client</td>\n",
              "      <td>University</td>\n",
              "      <td>Married</td>\n",
              "      <td>3.0</td>\n",
              "      <td>10</td>\n",
              "      <td>36.0</td>\n",
              "      <td>3.0</td>\n",
              "      <td>C</td>\n",
              "      <td>2012-01-23</td>\n",
              "      <td>Sales</td>\n",
              "      <td>Owned</td>\n",
              "      <td>1</td>\n",
              "      <td>True</td>\n",
              "      <td>B</td>\n",
              "    </tr>\n",
              "    <tr>\n",
              "      <th>1</th>\n",
              "      <td>7440</td>\n",
              "      <td>0</td>\n",
              "      <td>Non Existing Client</td>\n",
              "      <td>1977-07-08</td>\n",
              "      <td>2012-02-13</td>\n",
              "      <td>NP_Client</td>\n",
              "      <td>University</td>\n",
              "      <td>Married</td>\n",
              "      <td>3.0</td>\n",
              "      <td>1</td>\n",
              "      <td>36.0</td>\n",
              "      <td>1.0</td>\n",
              "      <td>C</td>\n",
              "      <td>2012-02-14</td>\n",
              "      <td>Sales</td>\n",
              "      <td>Owned</td>\n",
              "      <td>1</td>\n",
              "      <td>True</td>\n",
              "      <td>B</td>\n",
              "    </tr>\n",
              "    <tr>\n",
              "      <th>2</th>\n",
              "      <td>573</td>\n",
              "      <td>0</td>\n",
              "      <td>Existing Client</td>\n",
              "      <td>1974-06-13</td>\n",
              "      <td>2009-04-02</td>\n",
              "      <td>P_Client</td>\n",
              "      <td>University</td>\n",
              "      <td>Married</td>\n",
              "      <td>0.0</td>\n",
              "      <td>12</td>\n",
              "      <td>18.0</td>\n",
              "      <td>2.0</td>\n",
              "      <td>C</td>\n",
              "      <td>2011-06-30</td>\n",
              "      <td>Sales</td>\n",
              "      <td>Parents</td>\n",
              "      <td>1</td>\n",
              "      <td>True</td>\n",
              "      <td>G</td>\n",
              "    </tr>\n",
              "    <tr>\n",
              "      <th>3</th>\n",
              "      <td>9194</td>\n",
              "      <td>0</td>\n",
              "      <td>Non Existing Client</td>\n",
              "      <td>1973-07-11</td>\n",
              "      <td>2012-03-04</td>\n",
              "      <td>NP_Client</td>\n",
              "      <td>University</td>\n",
              "      <td>Married</td>\n",
              "      <td>2.0</td>\n",
              "      <td>10</td>\n",
              "      <td>36.0</td>\n",
              "      <td>1.0</td>\n",
              "      <td>C</td>\n",
              "      <td>2012-04-04</td>\n",
              "      <td>Sales</td>\n",
              "      <td>Owned</td>\n",
              "      <td>1</td>\n",
              "      <td>True</td>\n",
              "      <td>B</td>\n",
              "    </tr>\n",
              "    <tr>\n",
              "      <th>4</th>\n",
              "      <td>3016</td>\n",
              "      <td>1</td>\n",
              "      <td>Existing Client</td>\n",
              "      <td>1982-08-07</td>\n",
              "      <td>2011-08-25</td>\n",
              "      <td>NP_Client</td>\n",
              "      <td>University</td>\n",
              "      <td>Married</td>\n",
              "      <td>3.0</td>\n",
              "      <td>3</td>\n",
              "      <td>36.0</td>\n",
              "      <td>1.0</td>\n",
              "      <td>C</td>\n",
              "      <td>2011-07-09</td>\n",
              "      <td>Sales</td>\n",
              "      <td>New rent</td>\n",
              "      <td>1</td>\n",
              "      <td>False</td>\n",
              "      <td>L</td>\n",
              "    </tr>\n",
              "  </tbody>\n",
              "</table>\n",
              "</div>"
            ],
            "text/plain": [
              "   Id_Customer  Y  ... Prod_Closed_Date Prod_Category\n",
              "0         6714  0  ...             True             B\n",
              "1         7440  0  ...             True             B\n",
              "2          573  0  ...             True             G\n",
              "3         9194  0  ...             True             B\n",
              "4         3016  1  ...            False             L\n",
              "\n",
              "[5 rows x 19 columns]"
            ]
          },
          "metadata": {},
          "execution_count": 119
        }
      ]
    },
    {
      "cell_type": "code",
      "metadata": {
        "colab": {
          "base_uri": "https://localhost:8080/",
          "height": 0
        },
        "id": "dDdI9C-h8ZDm",
        "outputId": "a01cd655-1706-4416-b075-6d0c0db363b5"
      },
      "source": [
        "# using scatter plots + Number_Of_Dependant, Years_At_Residenc, Net_Annual_Income, Years_At_Business\n",
        "\n",
        "f, ax = plt.subplots(2,2,figsize=(20,12 ))\n",
        "\n",
        "sns.scatterplot(df.Years_At_Business,df.Net_Annual_Income, ax = ax[0][0]).set(title='At business')\n",
        "sns.scatterplot(df.Years_At_Residence,df.Net_Annual_Income,ax = ax[0][1]).set(title='At residence')\n",
        "\n",
        "sns.scatterplot(df.Years_At_Business,df.Number_Of_Dependant, ax = ax[1][0]).set(title='At business')\n",
        "sns.scatterplot(df.Years_At_Residence,df.Number_Of_Dependant,ax = ax[1][1]).set(title='At residence')\n",
        "\n",
        "plt.tight_layout()"
      ],
      "execution_count": 120,
      "outputs": [
        {
          "output_type": "display_data",
          "data": {
            "image/png": "[encoded data removed]",
            "text/plain": [
              "<Figure size 1440x864 with 4 Axes>"
            ]
          },
          "metadata": {
            "needs_background": "light"
          }
        }
      ]
    },
    {
      "cell_type": "markdown",
      "metadata": {
        "id": "nALsZmz9BsdX"
      },
      "source": [
        "- Net_Annual_Income : one to three outliers  (above 6000)\n",
        "- Number_Of_Dependant : two outliers (above 10)\n",
        "- Years_At_Business : seven outliers near 100 ( Years at business takes values near 100 which is not the case in real life, so we assume that some clients are companies )"
      ]
    },
    {
      "cell_type": "code",
      "metadata": {
        "id": "BkQykzQv5TO3",
        "colab": {
          "base_uri": "https://localhost:8080/",
          "height": 0
        },
        "outputId": "952334b6-9094-4074-f654-e0c0c7399f76"
      },
      "source": [
        "# using box plots + Number_Of_Dependant, Years_At_Residenc, Net_Annual_Income, Years_At_Business\n",
        "\n",
        "sns.catplot(\n",
        "    data=df,\n",
        "    x='Y',\n",
        "    y= 'Number_Of_Dependant',\n",
        "    kind='box',\n",
        "    height=5, # make the plot 5 units high\n",
        "    aspect=2).set(title='Number_Of_Dependant')\n",
        "\n",
        "sns.catplot(\n",
        "    data=df,\n",
        "    x='Y',\n",
        "    y= 'Net_Annual_Income',\n",
        "    kind='box',\n",
        "    height=5, # make the plot 5 units high\n",
        "    aspect=2).set(title='Net_Annual_Income')\n",
        "\n",
        "sns.catplot(\n",
        "    data=df,\n",
        "    x='Y',\n",
        "    y= 'Years_At_Business',\n",
        "    kind='box',\n",
        "    height=5, # make the plot 5 units high\n",
        "    aspect=2).set(title='Years_At_Business')\n",
        "\n",
        "plt.tight_layout()"
      ],
      "execution_count": 121,
      "outputs": [
        {
          "output_type": "display_data",
          "data": {
            "image/png": "[encoded data removed]",
            "text/plain": [
              "<Figure size 720x360 with 1 Axes>"
            ]
          },
          "metadata": {
            "needs_background": "light"
          }
        },
        {
          "output_type": "display_data",
          "data": {
            "image/png": "[encoded data removed]",
            "text/plain": [
              "<Figure size 720x360 with 1 Axes>"
            ]
          },
          "metadata": {
            "needs_background": "light"
          }
        },
        {
          "output_type": "display_data",
          "data": {
            "image/png": "[encoded data removed]",
            "text/plain": [
              "<Figure size 720x360 with 1 Axes>"
            ]
          },
          "metadata": {
            "needs_background": "light"
          }
        }
      ]
    },
    {
      "cell_type": "markdown",
      "metadata": {
        "id": "U9PUGYYDwZSd"
      },
      "source": [
        "The box plots confirm what we said earlier about the outliers noticed in the scatter plots. Removing outliers is not always the optimal solution, in this notebook we will work with them and recuce their effects by a robust scaling "
      ]
    },
    {
      "cell_type": "markdown",
      "metadata": {
        "id": "Emva0ZCyKG6p"
      },
      "source": [
        "### Add new variables\n",
        "\n",
        "- Add Age_Client column based on reference date taken from the last date when Prod_Closed_Date was available (not nan) which is 01-01-2014.\n",
        "PS: the reference date is probably the year when this data was collected.\n",
        "- By handeling  the column Customer_Open_Date we can create another column where the information on the customer's seniority is located.\n",
        "- As for the Prod_Decision_Date column, we have information on the duration of the first contract for each client.\n",
        "In the end, we manage to transform the date columns into useful numeric columns.\n",
        "\n"
      ]
    },
    {
      "cell_type": "code",
      "metadata": {
        "colab": {
          "base_uri": "https://localhost:8080/"
        },
        "id": "H2AA2iE9dJi_",
        "outputId": "e17845c6-0989-4b2b-bbb6-239a62b6025c"
      },
      "source": [
        "reference = datetime(2014, 1, 1)\n",
        "\n",
        "df['Age_Client'] = reference - df['BirthDate']\n",
        "df['Age_Client'] = df['Age_Client'].astype(str)\n",
        "df['Age_Client'] = df['Age_Client'].map(lambda x: x.rstrip('days'))\n",
        "df['Age_Client'] = df['Age_Client'].astype(int).apply(lambda x : x/365.25)\n",
        "df['Age_Client'] = df['Age_Client']//1\n",
        "df['Age_Client']"
      ],
      "execution_count": 122,
      "outputs": [
        {
          "output_type": "execute_result",
          "data": {
            "text/plain": [
              "0       42.0\n",
              "1       36.0\n",
              "2       39.0\n",
              "3       40.0\n",
              "4       31.0\n",
              "        ... \n",
              "6720    60.0\n",
              "6721    31.0\n",
              "6722    63.0\n",
              "6723    30.0\n",
              "6724    31.0\n",
              "Name: Age_Client, Length: 6725, dtype: float64"
            ]
          },
          "metadata": {},
          "execution_count": 122
        }
      ]
    },
    {
      "cell_type": "code",
      "metadata": {
        "colab": {
          "base_uri": "https://localhost:8080/",
          "height": 0
        },
        "id": "i0SjWRxHivvG",
        "outputId": "210fa1a3-ddda-453c-cb39-8f1e2b62292a"
      },
      "source": [
        "df.head()"
      ],
      "execution_count": 123,
      "outputs": [
        {
          "output_type": "execute_result",
          "data": {
            "text/html": [
              "<div>\n",
              "<style scoped>\n",
              "    .dataframe tbody tr th:only-of-type {\n",
              "        vertical-align: middle;\n",
              "    }\n",
              "\n",
              "    .dataframe tbody tr th {\n",
              "        vertical-align: top;\n",
              "    }\n",
              "\n",
              "    .dataframe thead th {\n",
              "        text-align: right;\n",
              "    }\n",
              "</style>\n",
              "<table border=\"1\" class=\"dataframe\">\n",
              "  <thead>\n",
              "    <tr style=\"text-align: right;\">\n",
              "      <th></th>\n",
              "      <th>Id_Customer</th>\n",
              "      <th>Y</th>\n",
              "      <th>Customer_Type</th>\n",
              "      <th>BirthDate</th>\n",
              "      <th>Customer_Open_Date</th>\n",
              "      <th>P_Client</th>\n",
              "      <th>Educational_Level</th>\n",
              "      <th>Marital_Status</th>\n",
              "      <th>Number_Of_Dependant</th>\n",
              "      <th>Years_At_Residence</th>\n",
              "      <th>Net_Annual_Income</th>\n",
              "      <th>Years_At_Business</th>\n",
              "      <th>Prod_Sub_Category</th>\n",
              "      <th>Prod_Decision_Date</th>\n",
              "      <th>Source</th>\n",
              "      <th>Type_Of_Residence</th>\n",
              "      <th>Nb_Of_Products</th>\n",
              "      <th>Prod_Closed_Date</th>\n",
              "      <th>Prod_Category</th>\n",
              "      <th>Age_Client</th>\n",
              "    </tr>\n",
              "  </thead>\n",
              "  <tbody>\n",
              "    <tr>\n",
              "      <th>0</th>\n",
              "      <td>6714</td>\n",
              "      <td>0</td>\n",
              "      <td>Non Existing Client</td>\n",
              "      <td>1971-02-09</td>\n",
              "      <td>2012-01-18</td>\n",
              "      <td>NP_Client</td>\n",
              "      <td>University</td>\n",
              "      <td>Married</td>\n",
              "      <td>3.0</td>\n",
              "      <td>10</td>\n",
              "      <td>36.0</td>\n",
              "      <td>3.0</td>\n",
              "      <td>C</td>\n",
              "      <td>2012-01-23</td>\n",
              "      <td>Sales</td>\n",
              "      <td>Owned</td>\n",
              "      <td>1</td>\n",
              "      <td>True</td>\n",
              "      <td>B</td>\n",
              "      <td>42.0</td>\n",
              "    </tr>\n",
              "    <tr>\n",
              "      <th>1</th>\n",
              "      <td>7440</td>\n",
              "      <td>0</td>\n",
              "      <td>Non Existing Client</td>\n",
              "      <td>1977-07-08</td>\n",
              "      <td>2012-02-13</td>\n",
              "      <td>NP_Client</td>\n",
              "      <td>University</td>\n",
              "      <td>Married</td>\n",
              "      <td>3.0</td>\n",
              "      <td>1</td>\n",
              "      <td>36.0</td>\n",
              "      <td>1.0</td>\n",
              "      <td>C</td>\n",
              "      <td>2012-02-14</td>\n",
              "      <td>Sales</td>\n",
              "      <td>Owned</td>\n",
              "      <td>1</td>\n",
              "      <td>True</td>\n",
              "      <td>B</td>\n",
              "      <td>36.0</td>\n",
              "    </tr>\n",
              "    <tr>\n",
              "      <th>2</th>\n",
              "      <td>573</td>\n",
              "      <td>0</td>\n",
              "      <td>Existing Client</td>\n",
              "      <td>1974-06-13</td>\n",
              "      <td>2009-04-02</td>\n",
              "      <td>P_Client</td>\n",
              "      <td>University</td>\n",
              "      <td>Married</td>\n",
              "      <td>0.0</td>\n",
              "      <td>12</td>\n",
              "      <td>18.0</td>\n",
              "      <td>2.0</td>\n",
              "      <td>C</td>\n",
              "      <td>2011-06-30</td>\n",
              "      <td>Sales</td>\n",
              "      <td>Parents</td>\n",
              "      <td>1</td>\n",
              "      <td>True</td>\n",
              "      <td>G</td>\n",
              "      <td>39.0</td>\n",
              "    </tr>\n",
              "    <tr>\n",
              "      <th>3</th>\n",
              "      <td>9194</td>\n",
              "      <td>0</td>\n",
              "      <td>Non Existing Client</td>\n",
              "      <td>1973-07-11</td>\n",
              "      <td>2012-03-04</td>\n",
              "      <td>NP_Client</td>\n",
              "      <td>University</td>\n",
              "      <td>Married</td>\n",
              "      <td>2.0</td>\n",
              "      <td>10</td>\n",
              "      <td>36.0</td>\n",
              "      <td>1.0</td>\n",
              "      <td>C</td>\n",
              "      <td>2012-04-04</td>\n",
              "      <td>Sales</td>\n",
              "      <td>Owned</td>\n",
              "      <td>1</td>\n",
              "      <td>True</td>\n",
              "      <td>B</td>\n",
              "      <td>40.0</td>\n",
              "    </tr>\n",
              "    <tr>\n",
              "      <th>4</th>\n",
              "      <td>3016</td>\n",
              "      <td>1</td>\n",
              "      <td>Existing Client</td>\n",
              "      <td>1982-08-07</td>\n",
              "      <td>2011-08-25</td>\n",
              "      <td>NP_Client</td>\n",
              "      <td>University</td>\n",
              "      <td>Married</td>\n",
              "      <td>3.0</td>\n",
              "      <td>3</td>\n",
              "      <td>36.0</td>\n",
              "      <td>1.0</td>\n",
              "      <td>C</td>\n",
              "      <td>2011-07-09</td>\n",
              "      <td>Sales</td>\n",
              "      <td>New rent</td>\n",
              "      <td>1</td>\n",
              "      <td>False</td>\n",
              "      <td>L</td>\n",
              "      <td>31.0</td>\n",
              "    </tr>\n",
              "  </tbody>\n",
              "</table>\n",
              "</div>"
            ],
            "text/plain": [
              "   Id_Customer  Y  ... Prod_Category Age_Client\n",
              "0         6714  0  ...             B       42.0\n",
              "1         7440  0  ...             B       36.0\n",
              "2          573  0  ...             G       39.0\n",
              "3         9194  0  ...             B       40.0\n",
              "4         3016  1  ...             L       31.0\n",
              "\n",
              "[5 rows x 20 columns]"
            ]
          },
          "metadata": {},
          "execution_count": 123
        }
      ]
    },
    {
      "cell_type": "code",
      "metadata": {
        "colab": {
          "base_uri": "https://localhost:8080/"
        },
        "id": "tPm56buThb3A",
        "outputId": "15baba2c-aa99-439b-fe71-84791253cd2b"
      },
      "source": [
        "df['Anciennete_Client'] = reference - df['Customer_Open_Date']\n",
        "df['Anciennete_Client'] = df['Anciennete_Client'].astype(str)\n",
        "df['Anciennete_Client'] = df['Anciennete_Client'].map(lambda x: x.rstrip('days'))\n",
        "df['Anciennete_Client'] = np.round(df['Anciennete_Client'].astype(int).apply(lambda x : x/365.25),2)\n",
        "df['Anciennete_Client'] "
      ],
      "execution_count": 124,
      "outputs": [
        {
          "output_type": "execute_result",
          "data": {
            "text/plain": [
              "0       1.95\n",
              "1       1.88\n",
              "2       4.75\n",
              "3       1.83\n",
              "4       2.35\n",
              "        ... \n",
              "6720    2.55\n",
              "6721    2.53\n",
              "6722    2.38\n",
              "6723    1.96\n",
              "6724    2.21\n",
              "Name: Anciennete_Client, Length: 6725, dtype: float64"
            ]
          },
          "metadata": {},
          "execution_count": 124
        }
      ]
    },
    {
      "cell_type": "code",
      "metadata": {
        "colab": {
          "base_uri": "https://localhost:8080/"
        },
        "id": "AQ3OYPVJjj6_",
        "outputId": "2a9555de-cbf1-4c62-d767-363ee211483b"
      },
      "source": [
        "df['Duree_1er_Contrat'] = reference - df['Prod_Decision_Date']\n",
        "df['Duree_1er_Contrat'] = df['Duree_1er_Contrat'].astype(str)\n",
        "df['Duree_1er_Contrat'] = df['Duree_1er_Contrat'].map(lambda x: x.rstrip('days'))\n",
        "df['Duree_1er_Contrat'] = np.round(df['Duree_1er_Contrat'].astype(int).apply(lambda x : x/365.25),2)\n",
        "df['Duree_1er_Contrat']"
      ],
      "execution_count": 125,
      "outputs": [
        {
          "output_type": "execute_result",
          "data": {
            "text/plain": [
              "0       1.94\n",
              "1       1.88\n",
              "2       2.51\n",
              "3       1.74\n",
              "4       2.48\n",
              "        ... \n",
              "6720    2.55\n",
              "6721    2.15\n",
              "6722    2.38\n",
              "6723    1.95\n",
              "6724    2.19\n",
              "Name: Duree_1er_Contrat, Length: 6725, dtype: float64"
            ]
          },
          "metadata": {},
          "execution_count": 125
        }
      ]
    },
    {
      "cell_type": "code",
      "metadata": {
        "colab": {
          "base_uri": "https://localhost:8080/"
        },
        "id": "Ck0j-8AhlFV3",
        "outputId": "07c1a326-03d5-4688-92f9-b7150eaeb88f"
      },
      "source": [
        "df.columns"
      ],
      "execution_count": 126,
      "outputs": [
        {
          "output_type": "execute_result",
          "data": {
            "text/plain": [
              "Index(['Id_Customer', 'Y', 'Customer_Type', 'BirthDate', 'Customer_Open_Date',\n",
              "       'P_Client', 'Educational_Level', 'Marital_Status',\n",
              "       'Number_Of_Dependant', 'Years_At_Residence', 'Net_Annual_Income',\n",
              "       'Years_At_Business', 'Prod_Sub_Category', 'Prod_Decision_Date',\n",
              "       'Source', 'Type_Of_Residence', 'Nb_Of_Products', 'Prod_Closed_Date',\n",
              "       'Prod_Category', 'Age_Client', 'Anciennete_Client',\n",
              "       'Duree_1er_Contrat'],\n",
              "      dtype='object')"
            ]
          },
          "metadata": {},
          "execution_count": 126
        }
      ]
    },
    {
      "cell_type": "code",
      "metadata": {
        "colab": {
          "base_uri": "https://localhost:8080/",
          "height": 0
        },
        "id": "4DNn-jrukiO2",
        "outputId": "b9e3e9a5-2447-459f-e899-07ac22885cbd"
      },
      "source": [
        "f, axes = plt.subplots(1, 3, figsize=(20,5))\n",
        "\n",
        "sns.histplot(df.Duree_1er_Contrat, bins = 30, ax=axes[0])\n",
        "sns.histplot(df.Anciennete_Client, bins = 30, ax=axes[1])\n",
        "sns.histplot(df.Age_Client,  bins = 30, ax=axes[2])\n",
        "\n",
        "f.tight_layout()"
      ],
      "execution_count": 127,
      "outputs": [
        {
          "output_type": "display_data",
          "data": {
            "image/png": "[encoded data removed]",
            "text/plain": [
              "<Figure size 1440x360 with 3 Axes>"
            ]
          },
          "metadata": {
            "needs_background": "light"
          }
        }
      ]
    },
    {
      "cell_type": "markdown",
      "metadata": {
        "id": "2nU41en06M1K"
      },
      "source": [
        "### Categories encoding\n",
        "Among the different techniques of categories encoding such as Label encoding, One hot encoding..etc, we will use **the Mean encoding technique**. Unlike one hot encoding that increase the dimensionality of our data ( nb of variables) and label encoding, which gets the work done efficiently but in a random way, mean encoding tries to approach the problem more logically. In a nutshell, it uses the target variable as the basis to generate the new encoded feature based on the ratio of occurrence of the positive class in the target variable. "
      ]
    },
    {
      "cell_type": "code",
      "metadata": {
        "colab": {
          "base_uri": "https://localhost:8080/",
          "height": 0
        },
        "id": "qLufZl1MOcPP",
        "outputId": "900c4500-4d72-4a84-d56b-a611a0608cc7"
      },
      "source": [
        "df.head()"
      ],
      "execution_count": 128,
      "outputs": [
        {
          "output_type": "execute_result",
          "data": {
            "text/html": [
              "<div>\n",
              "<style scoped>\n",
              "    .dataframe tbody tr th:only-of-type {\n",
              "        vertical-align: middle;\n",
              "    }\n",
              "\n",
              "    .dataframe tbody tr th {\n",
              "        vertical-align: top;\n",
              "    }\n",
              "\n",
              "    .dataframe thead th {\n",
              "        text-align: right;\n",
              "    }\n",
              "</style>\n",
              "<table border=\"1\" class=\"dataframe\">\n",
              "  <thead>\n",
              "    <tr style=\"text-align: right;\">\n",
              "      <th></th>\n",
              "      <th>Id_Customer</th>\n",
              "      <th>Y</th>\n",
              "      <th>Customer_Type</th>\n",
              "      <th>BirthDate</th>\n",
              "      <th>Customer_Open_Date</th>\n",
              "      <th>P_Client</th>\n",
              "      <th>Educational_Level</th>\n",
              "      <th>Marital_Status</th>\n",
              "      <th>Number_Of_Dependant</th>\n",
              "      <th>Years_At_Residence</th>\n",
              "      <th>Net_Annual_Income</th>\n",
              "      <th>Years_At_Business</th>\n",
              "      <th>Prod_Sub_Category</th>\n",
              "      <th>Prod_Decision_Date</th>\n",
              "      <th>Source</th>\n",
              "      <th>Type_Of_Residence</th>\n",
              "      <th>Nb_Of_Products</th>\n",
              "      <th>Prod_Closed_Date</th>\n",
              "      <th>Prod_Category</th>\n",
              "      <th>Age_Client</th>\n",
              "      <th>Anciennete_Client</th>\n",
              "      <th>Duree_1er_Contrat</th>\n",
              "    </tr>\n",
              "  </thead>\n",
              "  <tbody>\n",
              "    <tr>\n",
              "      <th>0</th>\n",
              "      <td>6714</td>\n",
              "      <td>0</td>\n",
              "      <td>Non Existing Client</td>\n",
              "      <td>1971-02-09</td>\n",
              "      <td>2012-01-18</td>\n",
              "      <td>NP_Client</td>\n",
              "      <td>University</td>\n",
              "      <td>Married</td>\n",
              "      <td>3.0</td>\n",
              "      <td>10</td>\n",
              "      <td>36.0</td>\n",
              "      <td>3.0</td>\n",
              "      <td>C</td>\n",
              "      <td>2012-01-23</td>\n",
              "      <td>Sales</td>\n",
              "      <td>Owned</td>\n",
              "      <td>1</td>\n",
              "      <td>True</td>\n",
              "      <td>B</td>\n",
              "      <td>42.0</td>\n",
              "      <td>1.95</td>\n",
              "      <td>1.94</td>\n",
              "    </tr>\n",
              "    <tr>\n",
              "      <th>1</th>\n",
              "      <td>7440</td>\n",
              "      <td>0</td>\n",
              "      <td>Non Existing Client</td>\n",
              "      <td>1977-07-08</td>\n",
              "      <td>2012-02-13</td>\n",
              "      <td>NP_Client</td>\n",
              "      <td>University</td>\n",
              "      <td>Married</td>\n",
              "      <td>3.0</td>\n",
              "      <td>1</td>\n",
              "      <td>36.0</td>\n",
              "      <td>1.0</td>\n",
              "      <td>C</td>\n",
              "      <td>2012-02-14</td>\n",
              "      <td>Sales</td>\n",
              "      <td>Owned</td>\n",
              "      <td>1</td>\n",
              "      <td>True</td>\n",
              "      <td>B</td>\n",
              "      <td>36.0</td>\n",
              "      <td>1.88</td>\n",
              "      <td>1.88</td>\n",
              "    </tr>\n",
              "    <tr>\n",
              "      <th>2</th>\n",
              "      <td>573</td>\n",
              "      <td>0</td>\n",
              "      <td>Existing Client</td>\n",
              "      <td>1974-06-13</td>\n",
              "      <td>2009-04-02</td>\n",
              "      <td>P_Client</td>\n",
              "      <td>University</td>\n",
              "      <td>Married</td>\n",
              "      <td>0.0</td>\n",
              "      <td>12</td>\n",
              "      <td>18.0</td>\n",
              "      <td>2.0</td>\n",
              "      <td>C</td>\n",
              "      <td>2011-06-30</td>\n",
              "      <td>Sales</td>\n",
              "      <td>Parents</td>\n",
              "      <td>1</td>\n",
              "      <td>True</td>\n",
              "      <td>G</td>\n",
              "      <td>39.0</td>\n",
              "      <td>4.75</td>\n",
              "      <td>2.51</td>\n",
              "    </tr>\n",
              "    <tr>\n",
              "      <th>3</th>\n",
              "      <td>9194</td>\n",
              "      <td>0</td>\n",
              "      <td>Non Existing Client</td>\n",
              "      <td>1973-07-11</td>\n",
              "      <td>2012-03-04</td>\n",
              "      <td>NP_Client</td>\n",
              "      <td>University</td>\n",
              "      <td>Married</td>\n",
              "      <td>2.0</td>\n",
              "      <td>10</td>\n",
              "      <td>36.0</td>\n",
              "      <td>1.0</td>\n",
              "      <td>C</td>\n",
              "      <td>2012-04-04</td>\n",
              "      <td>Sales</td>\n",
              "      <td>Owned</td>\n",
              "      <td>1</td>\n",
              "      <td>True</td>\n",
              "      <td>B</td>\n",
              "      <td>40.0</td>\n",
              "      <td>1.83</td>\n",
              "      <td>1.74</td>\n",
              "    </tr>\n",
              "    <tr>\n",
              "      <th>4</th>\n",
              "      <td>3016</td>\n",
              "      <td>1</td>\n",
              "      <td>Existing Client</td>\n",
              "      <td>1982-08-07</td>\n",
              "      <td>2011-08-25</td>\n",
              "      <td>NP_Client</td>\n",
              "      <td>University</td>\n",
              "      <td>Married</td>\n",
              "      <td>3.0</td>\n",
              "      <td>3</td>\n",
              "      <td>36.0</td>\n",
              "      <td>1.0</td>\n",
              "      <td>C</td>\n",
              "      <td>2011-07-09</td>\n",
              "      <td>Sales</td>\n",
              "      <td>New rent</td>\n",
              "      <td>1</td>\n",
              "      <td>False</td>\n",
              "      <td>L</td>\n",
              "      <td>31.0</td>\n",
              "      <td>2.35</td>\n",
              "      <td>2.48</td>\n",
              "    </tr>\n",
              "  </tbody>\n",
              "</table>\n",
              "</div>"
            ],
            "text/plain": [
              "   Id_Customer  Y  ... Anciennete_Client Duree_1er_Contrat\n",
              "0         6714  0  ...              1.95              1.94\n",
              "1         7440  0  ...              1.88              1.88\n",
              "2          573  0  ...              4.75              2.51\n",
              "3         9194  0  ...              1.83              1.74\n",
              "4         3016  1  ...              2.35              2.48\n",
              "\n",
              "[5 rows x 22 columns]"
            ]
          },
          "metadata": {},
          "execution_count": 128
        }
      ]
    },
    {
      "cell_type": "code",
      "metadata": {
        "id": "LEkSn_vzOcSL"
      },
      "source": [
        "# define categories\n",
        "\n",
        "categories = ['Customer_Type','P_Client','Educational_Level', 'Marital_Status','Prod_Sub_Category','Source',\n",
        "              'Type_Of_Residence','Prod_Category']\n",
        "  "
      ],
      "execution_count": 129,
      "outputs": []
    },
    {
      "cell_type": "markdown",
      "metadata": {
        "id": "m1vIsobgQrmv"
      },
      "source": [
        "**Mean Encoding with additive smoothing regularisation**\n",
        "\n",
        "We've read a few articles on common encoding techniques, one of which caught our attention: mean encoding (aka target, aka likelihood, aka impact), whereby each distinct value of categorical value is replaced with average value of target variable we're trying to predict.\n",
        "\n",
        "After some googling and reading through amazing Kaggle kernels and forums, we've realized that:\n",
        "\n",
        "- mean encoding as it is has high risk of overfitting, so some kind of regularisation is required\n",
        "- there are several ways of doing this regularisation. In this notebook, we chose additive smoothing regularisation."
      ]
    },
    {
      "cell_type": "code",
      "metadata": {
        "id": "-K1cmFtnOcWT"
      },
      "source": [
        "def encode_target_smooth(data, target, categ_variables, smooth):\n",
        "  \n",
        "    train_target = data.copy()\n",
        "    code_map = dict()    # stores mapping between original and encoded values\n",
        "    default_map = dict() # stores global average of each variable\n",
        "    \n",
        "    for v in categ_variables:\n",
        "        prior = data[target].mean()\n",
        "        n = data.groupby(v).size()\n",
        "        mu = data.groupby(v)[target].mean()\n",
        "        mu_smoothed = (n * mu + smooth * prior) / (n + smooth)\n",
        "        \n",
        "        train_target.loc[:, v] = train_target[v].map(mu_smoothed)        \n",
        "        code_map[v] = mu_smoothed\n",
        "        default_map[v] = prior        \n",
        "    return train_target, code_map, default_map"
      ],
      "execution_count": 130,
      "outputs": []
    },
    {
      "cell_type": "code",
      "metadata": {
        "id": "YYnduBARRJRY"
      },
      "source": [
        "df_target_smooth, target_map, default_map = encode_target_smooth(df, 'Y', categories, 500)\n",
        "#If value of categorical variable has n observations that is lower than smooth, then the weighted average will be dominated by the global average."
      ],
      "execution_count": 131,
      "outputs": []
    },
    {
      "cell_type": "code",
      "metadata": {
        "colab": {
          "base_uri": "https://localhost:8080/",
          "height": 0
        },
        "id": "y0VWkGzWRJUQ",
        "outputId": "aee3cab9-c990-4e1a-c1c7-c2f05a564386"
      },
      "source": [
        "# categories after mean encoding applied\n",
        "df_target_smooth[categories].head()\n"
      ],
      "execution_count": 132,
      "outputs": [
        {
          "output_type": "execute_result",
          "data": {
            "text/html": [
              "<div>\n",
              "<style scoped>\n",
              "    .dataframe tbody tr th:only-of-type {\n",
              "        vertical-align: middle;\n",
              "    }\n",
              "\n",
              "    .dataframe tbody tr th {\n",
              "        vertical-align: top;\n",
              "    }\n",
              "\n",
              "    .dataframe thead th {\n",
              "        text-align: right;\n",
              "    }\n",
              "</style>\n",
              "<table border=\"1\" class=\"dataframe\">\n",
              "  <thead>\n",
              "    <tr style=\"text-align: right;\">\n",
              "      <th></th>\n",
              "      <th>Customer_Type</th>\n",
              "      <th>P_Client</th>\n",
              "      <th>Educational_Level</th>\n",
              "      <th>Marital_Status</th>\n",
              "      <th>Prod_Sub_Category</th>\n",
              "      <th>Source</th>\n",
              "      <th>Type_Of_Residence</th>\n",
              "      <th>Prod_Category</th>\n",
              "    </tr>\n",
              "  </thead>\n",
              "  <tbody>\n",
              "    <tr>\n",
              "      <th>0</th>\n",
              "      <td>0.070732</td>\n",
              "      <td>0.075589</td>\n",
              "      <td>0.074592</td>\n",
              "      <td>0.06977</td>\n",
              "      <td>0.078693</td>\n",
              "      <td>0.074072</td>\n",
              "      <td>0.071143</td>\n",
              "      <td>0.067299</td>\n",
              "    </tr>\n",
              "    <tr>\n",
              "      <th>1</th>\n",
              "      <td>0.070732</td>\n",
              "      <td>0.075589</td>\n",
              "      <td>0.074592</td>\n",
              "      <td>0.06977</td>\n",
              "      <td>0.078693</td>\n",
              "      <td>0.074072</td>\n",
              "      <td>0.071143</td>\n",
              "      <td>0.067299</td>\n",
              "    </tr>\n",
              "    <tr>\n",
              "      <th>2</th>\n",
              "      <td>0.076198</td>\n",
              "      <td>0.054774</td>\n",
              "      <td>0.074592</td>\n",
              "      <td>0.06977</td>\n",
              "      <td>0.078693</td>\n",
              "      <td>0.074072</td>\n",
              "      <td>0.071824</td>\n",
              "      <td>0.051242</td>\n",
              "    </tr>\n",
              "    <tr>\n",
              "      <th>3</th>\n",
              "      <td>0.070732</td>\n",
              "      <td>0.075589</td>\n",
              "      <td>0.074592</td>\n",
              "      <td>0.06977</td>\n",
              "      <td>0.078693</td>\n",
              "      <td>0.074072</td>\n",
              "      <td>0.071143</td>\n",
              "      <td>0.067299</td>\n",
              "    </tr>\n",
              "    <tr>\n",
              "      <th>4</th>\n",
              "      <td>0.076198</td>\n",
              "      <td>0.075589</td>\n",
              "      <td>0.074592</td>\n",
              "      <td>0.06977</td>\n",
              "      <td>0.078693</td>\n",
              "      <td>0.074072</td>\n",
              "      <td>0.083357</td>\n",
              "      <td>0.182593</td>\n",
              "    </tr>\n",
              "  </tbody>\n",
              "</table>\n",
              "</div>"
            ],
            "text/plain": [
              "  Customer_Type  P_Client  ... Type_Of_Residence Prod_Category\n",
              "0      0.070732  0.075589  ...          0.071143      0.067299\n",
              "1      0.070732  0.075589  ...          0.071143      0.067299\n",
              "2      0.076198  0.054774  ...          0.071824      0.051242\n",
              "3      0.070732  0.075589  ...          0.071143      0.067299\n",
              "4      0.076198  0.075589  ...          0.083357      0.182593\n",
              "\n",
              "[5 rows x 8 columns]"
            ]
          },
          "metadata": {},
          "execution_count": 132
        }
      ]
    },
    {
      "cell_type": "code",
      "metadata": {
        "colab": {
          "base_uri": "https://localhost:8080/"
        },
        "id": "lYvensaPb_6L",
        "outputId": "a19675af-be19-48a3-9bc0-86a9a3deaef5"
      },
      "source": [
        "df_target_smooth[categories].info()"
      ],
      "execution_count": 133,
      "outputs": [
        {
          "output_type": "stream",
          "name": "stdout",
          "text": [
            "<class 'pandas.core.frame.DataFrame'>\n",
            "RangeIndex: 6725 entries, 0 to 6724\n",
            "Data columns (total 8 columns):\n",
            " #   Column             Non-Null Count  Dtype   \n",
            "---  ------             --------------  -----   \n",
            " 0   Customer_Type      6725 non-null   category\n",
            " 1   P_Client           6725 non-null   category\n",
            " 2   Educational_Level  6725 non-null   category\n",
            " 3   Marital_Status     6725 non-null   category\n",
            " 4   Prod_Sub_Category  6725 non-null   category\n",
            " 5   Source             6725 non-null   category\n",
            " 6   Type_Of_Residence  6725 non-null   category\n",
            " 7   Prod_Category      6725 non-null   category\n",
            "dtypes: category(8)\n",
            "memory usage: 54.4 KB\n"
          ]
        }
      ]
    },
    {
      "cell_type": "markdown",
      "metadata": {
        "id": "Cu2i4FmlSdwa"
      },
      "source": [
        "## Data Scaling"
      ]
    },
    {
      "cell_type": "code",
      "metadata": {
        "colab": {
          "base_uri": "https://localhost:8080/"
        },
        "id": "APm-vq5kSu75",
        "outputId": "c5208bf6-c2c7-4cb3-dcb4-f783a20d08e7"
      },
      "source": [
        "df_target_smooth.columns"
      ],
      "execution_count": 134,
      "outputs": [
        {
          "output_type": "execute_result",
          "data": {
            "text/plain": [
              "Index(['Id_Customer', 'Y', 'Customer_Type', 'BirthDate', 'Customer_Open_Date',\n",
              "       'P_Client', 'Educational_Level', 'Marital_Status',\n",
              "       'Number_Of_Dependant', 'Years_At_Residence', 'Net_Annual_Income',\n",
              "       'Years_At_Business', 'Prod_Sub_Category', 'Prod_Decision_Date',\n",
              "       'Source', 'Type_Of_Residence', 'Nb_Of_Products', 'Prod_Closed_Date',\n",
              "       'Prod_Category', 'Age_Client', 'Anciennete_Client',\n",
              "       'Duree_1er_Contrat'],\n",
              "      dtype='object')"
            ]
          },
          "metadata": {},
          "execution_count": 134
        }
      ]
    },
    {
      "cell_type": "code",
      "metadata": {
        "colab": {
          "base_uri": "https://localhost:8080/",
          "height": 0
        },
        "id": "pbdnenntRJWw",
        "outputId": "48346308-cea8-4be8-f7a0-0351c51dad71"
      },
      "source": [
        "# store only features of interest\n",
        "features = categories + ['Y','Number_Of_Dependant','Years_At_Residence','Net_Annual_Income','Years_At_Business','Age_Client',\n",
        "                         'Nb_Of_Products','Anciennete_Client','Duree_1er_Contrat','Prod_Closed_Date']\n",
        "Processed_data = df_target_smooth[features]\n",
        "Processed_data.head()"
      ],
      "execution_count": 135,
      "outputs": [
        {
          "output_type": "execute_result",
          "data": {
            "text/html": [
              "<div>\n",
              "<style scoped>\n",
              "    .dataframe tbody tr th:only-of-type {\n",
              "        vertical-align: middle;\n",
              "    }\n",
              "\n",
              "    .dataframe tbody tr th {\n",
              "        vertical-align: top;\n",
              "    }\n",
              "\n",
              "    .dataframe thead th {\n",
              "        text-align: right;\n",
              "    }\n",
              "</style>\n",
              "<table border=\"1\" class=\"dataframe\">\n",
              "  <thead>\n",
              "    <tr style=\"text-align: right;\">\n",
              "      <th></th>\n",
              "      <th>Customer_Type</th>\n",
              "      <th>P_Client</th>\n",
              "      <th>Educational_Level</th>\n",
              "      <th>Marital_Status</th>\n",
              "      <th>Prod_Sub_Category</th>\n",
              "      <th>Source</th>\n",
              "      <th>Type_Of_Residence</th>\n",
              "      <th>Prod_Category</th>\n",
              "      <th>Y</th>\n",
              "      <th>Number_Of_Dependant</th>\n",
              "      <th>Years_At_Residence</th>\n",
              "      <th>Net_Annual_Income</th>\n",
              "      <th>Years_At_Business</th>\n",
              "      <th>Age_Client</th>\n",
              "      <th>Nb_Of_Products</th>\n",
              "      <th>Anciennete_Client</th>\n",
              "      <th>Duree_1er_Contrat</th>\n",
              "      <th>Prod_Closed_Date</th>\n",
              "    </tr>\n",
              "  </thead>\n",
              "  <tbody>\n",
              "    <tr>\n",
              "      <th>0</th>\n",
              "      <td>0.070732</td>\n",
              "      <td>0.075589</td>\n",
              "      <td>0.074592</td>\n",
              "      <td>0.06977</td>\n",
              "      <td>0.078693</td>\n",
              "      <td>0.074072</td>\n",
              "      <td>0.071143</td>\n",
              "      <td>0.067299</td>\n",
              "      <td>0</td>\n",
              "      <td>3.0</td>\n",
              "      <td>10</td>\n",
              "      <td>36.0</td>\n",
              "      <td>3.0</td>\n",
              "      <td>42.0</td>\n",
              "      <td>1</td>\n",
              "      <td>1.95</td>\n",
              "      <td>1.94</td>\n",
              "      <td>True</td>\n",
              "    </tr>\n",
              "    <tr>\n",
              "      <th>1</th>\n",
              "      <td>0.070732</td>\n",
              "      <td>0.075589</td>\n",
              "      <td>0.074592</td>\n",
              "      <td>0.06977</td>\n",
              "      <td>0.078693</td>\n",
              "      <td>0.074072</td>\n",
              "      <td>0.071143</td>\n",
              "      <td>0.067299</td>\n",
              "      <td>0</td>\n",
              "      <td>3.0</td>\n",
              "      <td>1</td>\n",
              "      <td>36.0</td>\n",
              "      <td>1.0</td>\n",
              "      <td>36.0</td>\n",
              "      <td>1</td>\n",
              "      <td>1.88</td>\n",
              "      <td>1.88</td>\n",
              "      <td>True</td>\n",
              "    </tr>\n",
              "    <tr>\n",
              "      <th>2</th>\n",
              "      <td>0.076198</td>\n",
              "      <td>0.054774</td>\n",
              "      <td>0.074592</td>\n",
              "      <td>0.06977</td>\n",
              "      <td>0.078693</td>\n",
              "      <td>0.074072</td>\n",
              "      <td>0.071824</td>\n",
              "      <td>0.051242</td>\n",
              "      <td>0</td>\n",
              "      <td>0.0</td>\n",
              "      <td>12</td>\n",
              "      <td>18.0</td>\n",
              "      <td>2.0</td>\n",
              "      <td>39.0</td>\n",
              "      <td>1</td>\n",
              "      <td>4.75</td>\n",
              "      <td>2.51</td>\n",
              "      <td>True</td>\n",
              "    </tr>\n",
              "    <tr>\n",
              "      <th>3</th>\n",
              "      <td>0.070732</td>\n",
              "      <td>0.075589</td>\n",
              "      <td>0.074592</td>\n",
              "      <td>0.06977</td>\n",
              "      <td>0.078693</td>\n",
              "      <td>0.074072</td>\n",
              "      <td>0.071143</td>\n",
              "      <td>0.067299</td>\n",
              "      <td>0</td>\n",
              "      <td>2.0</td>\n",
              "      <td>10</td>\n",
              "      <td>36.0</td>\n",
              "      <td>1.0</td>\n",
              "      <td>40.0</td>\n",
              "      <td>1</td>\n",
              "      <td>1.83</td>\n",
              "      <td>1.74</td>\n",
              "      <td>True</td>\n",
              "    </tr>\n",
              "    <tr>\n",
              "      <th>4</th>\n",
              "      <td>0.076198</td>\n",
              "      <td>0.075589</td>\n",
              "      <td>0.074592</td>\n",
              "      <td>0.06977</td>\n",
              "      <td>0.078693</td>\n",
              "      <td>0.074072</td>\n",
              "      <td>0.083357</td>\n",
              "      <td>0.182593</td>\n",
              "      <td>1</td>\n",
              "      <td>3.0</td>\n",
              "      <td>3</td>\n",
              "      <td>36.0</td>\n",
              "      <td>1.0</td>\n",
              "      <td>31.0</td>\n",
              "      <td>1</td>\n",
              "      <td>2.35</td>\n",
              "      <td>2.48</td>\n",
              "      <td>False</td>\n",
              "    </tr>\n",
              "  </tbody>\n",
              "</table>\n",
              "</div>"
            ],
            "text/plain": [
              "  Customer_Type  P_Client  ... Duree_1er_Contrat Prod_Closed_Date\n",
              "0      0.070732  0.075589  ...              1.94             True\n",
              "1      0.070732  0.075589  ...              1.88             True\n",
              "2      0.076198  0.054774  ...              2.51             True\n",
              "3      0.070732  0.075589  ...              1.74             True\n",
              "4      0.076198  0.075589  ...              2.48            False\n",
              "\n",
              "[5 rows x 18 columns]"
            ]
          },
          "metadata": {},
          "execution_count": 135
        }
      ]
    },
    {
      "cell_type": "code",
      "metadata": {
        "id": "jq8MVcu0yQ9w"
      },
      "source": [
        "Processed_data.to_csv('non_scaled.csv',index = False)"
      ],
      "execution_count": 136,
      "outputs": []
    },
    {
      "cell_type": "markdown",
      "metadata": {
        "id": "FFBjEBN9VAyR"
      },
      "source": [
        "### Feature scaling"
      ]
    },
    {
      "cell_type": "code",
      "metadata": {
        "id": "eFblHARSUO_L"
      },
      "source": [
        "# RobustScaler is less prone to outliers.\n",
        "\n",
        "std_scaler = StandardScaler()\n",
        "rob_scaler = RobustScaler()\n",
        "\n",
        "Processed_data['scaled_Number_Of_Dependant'] = rob_scaler.fit_transform(Processed_data['Number_Of_Dependant'].values.reshape(-1,1))\n",
        "Processed_data['scaled_Years_At_Residence'] = rob_scaler.fit_transform(Processed_data['Years_At_Residence'].values.reshape(-1,1))\n",
        "Processed_data['scaled_Net_Annual_Income'] = rob_scaler.fit_transform(Processed_data['Net_Annual_Income'].values.reshape(-1,1))\n",
        "Processed_data['scaled_Years_At_Business'] = rob_scaler.fit_transform(Processed_data['Years_At_Business'].values.reshape(-1,1))\n",
        "Processed_data['scaled_Age_Client'] = rob_scaler.fit_transform(Processed_data['Age_Client'].values.reshape(-1,1))\n",
        "Processed_data['scaled_Nb_Of_Products'] = rob_scaler.fit_transform(Processed_data['Nb_Of_Products'].values.reshape(-1,1))\n",
        "Processed_data['scaled_Anciennete_Client'] = rob_scaler.fit_transform(Processed_data['Anciennete_Client'].values.reshape(-1,1))\n",
        "Processed_data['scaled_Duree_1er_Contrat'] = rob_scaler.fit_transform(Processed_data['Duree_1er_Contrat'].values.reshape(-1,1))\n",
        "\n",
        "\n",
        "Processed_data.drop(['Number_Of_Dependant','Years_At_Residence','Net_Annual_Income','Years_At_Business','Age_Client',\n",
        "                         'Nb_Of_Products','Anciennete_Client','Duree_1er_Contrat',], axis=1, inplace=True)"
      ],
      "execution_count": 137,
      "outputs": []
    },
    {
      "cell_type": "code",
      "metadata": {
        "colab": {
          "base_uri": "https://localhost:8080/",
          "height": 0
        },
        "id": "FmID5l0SYuIw",
        "outputId": "3d91a1b2-41c0-4bdd-9b87-986c39d798f6"
      },
      "source": [
        "Processed_data.describe()"
      ],
      "execution_count": 138,
      "outputs": [
        {
          "output_type": "execute_result",
          "data": {
            "text/html": [
              "<div>\n",
              "<style scoped>\n",
              "    .dataframe tbody tr th:only-of-type {\n",
              "        vertical-align: middle;\n",
              "    }\n",
              "\n",
              "    .dataframe tbody tr th {\n",
              "        vertical-align: top;\n",
              "    }\n",
              "\n",
              "    .dataframe thead th {\n",
              "        text-align: right;\n",
              "    }\n",
              "</style>\n",
              "<table border=\"1\" class=\"dataframe\">\n",
              "  <thead>\n",
              "    <tr style=\"text-align: right;\">\n",
              "      <th></th>\n",
              "      <th>Y</th>\n",
              "      <th>scaled_Number_Of_Dependant</th>\n",
              "      <th>scaled_Years_At_Residence</th>\n",
              "      <th>scaled_Net_Annual_Income</th>\n",
              "      <th>scaled_Years_At_Business</th>\n",
              "      <th>scaled_Age_Client</th>\n",
              "      <th>scaled_Nb_Of_Products</th>\n",
              "      <th>scaled_Anciennete_Client</th>\n",
              "      <th>scaled_Duree_1er_Contrat</th>\n",
              "    </tr>\n",
              "  </thead>\n",
              "  <tbody>\n",
              "    <tr>\n",
              "      <th>count</th>\n",
              "      <td>6725.000000</td>\n",
              "      <td>6725.000000</td>\n",
              "      <td>6725.000000</td>\n",
              "      <td>6725.000000</td>\n",
              "      <td>6725.000000</td>\n",
              "      <td>6725.000000</td>\n",
              "      <td>6725.000000</td>\n",
              "      <td>6725.000000</td>\n",
              "      <td>6725.000000</td>\n",
              "    </tr>\n",
              "    <tr>\n",
              "      <th>mean</th>\n",
              "      <td>0.072862</td>\n",
              "      <td>0.525651</td>\n",
              "      <td>0.197289</td>\n",
              "      <td>1.558239</td>\n",
              "      <td>1.087931</td>\n",
              "      <td>0.071351</td>\n",
              "      <td>0.086840</td>\n",
              "      <td>0.988600</td>\n",
              "      <td>-0.060950</td>\n",
              "    </tr>\n",
              "    <tr>\n",
              "      <th>std</th>\n",
              "      <td>0.259930</td>\n",
              "      <td>0.666319</td>\n",
              "      <td>0.768174</td>\n",
              "      <td>14.738615</td>\n",
              "      <td>2.417944</td>\n",
              "      <td>0.610182</td>\n",
              "      <td>0.295033</td>\n",
              "      <td>3.043853</td>\n",
              "      <td>0.719893</td>\n",
              "    </tr>\n",
              "    <tr>\n",
              "      <th>min</th>\n",
              "      <td>0.000000</td>\n",
              "      <td>0.000000</td>\n",
              "      <td>-0.769231</td>\n",
              "      <td>-2.249938</td>\n",
              "      <td>-0.333333</td>\n",
              "      <td>-1.000000</td>\n",
              "      <td>0.000000</td>\n",
              "      <td>-1.267327</td>\n",
              "      <td>-1.945455</td>\n",
              "    </tr>\n",
              "    <tr>\n",
              "      <th>25%</th>\n",
              "      <td>0.000000</td>\n",
              "      <td>0.000000</td>\n",
              "      <td>-0.461538</td>\n",
              "      <td>-1.000000</td>\n",
              "      <td>0.000000</td>\n",
              "      <td>-0.444444</td>\n",
              "      <td>0.000000</td>\n",
              "      <td>-0.336634</td>\n",
              "      <td>-0.545455</td>\n",
              "    </tr>\n",
              "    <tr>\n",
              "      <th>50%</th>\n",
              "      <td>0.000000</td>\n",
              "      <td>0.000000</td>\n",
              "      <td>0.000000</td>\n",
              "      <td>0.000000</td>\n",
              "      <td>0.000000</td>\n",
              "      <td>0.000000</td>\n",
              "      <td>0.000000</td>\n",
              "      <td>0.000000</td>\n",
              "      <td>0.000000</td>\n",
              "    </tr>\n",
              "    <tr>\n",
              "      <th>75%</th>\n",
              "      <td>0.000000</td>\n",
              "      <td>1.000000</td>\n",
              "      <td>0.538462</td>\n",
              "      <td>0.000000</td>\n",
              "      <td>1.000000</td>\n",
              "      <td>0.555556</td>\n",
              "      <td>0.000000</td>\n",
              "      <td>0.663366</td>\n",
              "      <td>0.454545</td>\n",
              "    </tr>\n",
              "    <tr>\n",
              "      <th>max</th>\n",
              "      <td>1.000000</td>\n",
              "      <td>10.000000</td>\n",
              "      <td>4.846154</td>\n",
              "      <td>622.750000</td>\n",
              "      <td>32.333333</td>\n",
              "      <td>2.000000</td>\n",
              "      <td>2.000000</td>\n",
              "      <td>30.623762</td>\n",
              "      <td>1.527273</td>\n",
              "    </tr>\n",
              "  </tbody>\n",
              "</table>\n",
              "</div>"
            ],
            "text/plain": [
              "                 Y  ...  scaled_Duree_1er_Contrat\n",
              "count  6725.000000  ...               6725.000000\n",
              "mean      0.072862  ...                 -0.060950\n",
              "std       0.259930  ...                  0.719893\n",
              "min       0.000000  ...                 -1.945455\n",
              "25%       0.000000  ...                 -0.545455\n",
              "50%       0.000000  ...                  0.000000\n",
              "75%       0.000000  ...                  0.454545\n",
              "max       1.000000  ...                  1.527273\n",
              "\n",
              "[8 rows x 9 columns]"
            ]
          },
          "metadata": {},
          "execution_count": 138
        }
      ]
    },
    {
      "cell_type": "markdown",
      "metadata": {
        "id": "S77No-RezWDN"
      },
      "source": [
        "After scaling, we can notice that the mean ranges between 0 and 1."
      ]
    },
    {
      "cell_type": "code",
      "metadata": {
        "id": "E00vAoHqIJy9"
      },
      "source": [
        "# processed data ready for modeling\n",
        "Processed_data.to_csv('Processed_data.csv', index=False)"
      ],
      "execution_count": 139,
      "outputs": []
    },
    {
      "cell_type": "markdown",
      "metadata": {
        "id": "W24hho2vHM2Z"
      },
      "source": [
        "# Approche I : Using Weighted Logistic Regression\n",
        "\n",
        "In this project, we are handeling an imbalanced problem. In terms of evaluation metrics, we're choosing the ROC-AUC score. Note that, LR means Logistic regression and HT means hyperparameters tuning.\n",
        "\n"
      ]
    },
    {
      "cell_type": "code",
      "metadata": {
        "id": "WWXoypGm4nIN"
      },
      "source": [
        "# define predictors and target\n",
        "\n",
        "data = pd.read_csv('/content/Processed_data.csv')\n"
      ],
      "execution_count": 140,
      "outputs": []
    },
    {
      "cell_type": "code",
      "metadata": {
        "colab": {
          "base_uri": "https://localhost:8080/",
          "height": 224
        },
        "id": "DvMDf21DoFe4",
        "outputId": "2dae619e-7082-4f1b-ca38-805300dcdfcb"
      },
      "source": [
        "data.head()"
      ],
      "execution_count": 88,
      "outputs": [
        {
          "output_type": "execute_result",
          "data": {
            "text/html": [
              "<div>\n",
              "<style scoped>\n",
              "    .dataframe tbody tr th:only-of-type {\n",
              "        vertical-align: middle;\n",
              "    }\n",
              "\n",
              "    .dataframe tbody tr th {\n",
              "        vertical-align: top;\n",
              "    }\n",
              "\n",
              "    .dataframe thead th {\n",
              "        text-align: right;\n",
              "    }\n",
              "</style>\n",
              "<table border=\"1\" class=\"dataframe\">\n",
              "  <thead>\n",
              "    <tr style=\"text-align: right;\">\n",
              "      <th></th>\n",
              "      <th>Customer_Type</th>\n",
              "      <th>P_Client</th>\n",
              "      <th>Educational_Level</th>\n",
              "      <th>Marital_Status</th>\n",
              "      <th>Prod_Sub_Category</th>\n",
              "      <th>Source</th>\n",
              "      <th>Type_Of_Residence</th>\n",
              "      <th>Prod_Category</th>\n",
              "      <th>Y</th>\n",
              "      <th>Prod_Closed_Date</th>\n",
              "      <th>scaled_Number_Of_Dependant</th>\n",
              "      <th>scaled_Years_At_Residence</th>\n",
              "      <th>scaled_Net_Annual_Income</th>\n",
              "      <th>scaled_Years_At_Business</th>\n",
              "      <th>scaled_Age_Client</th>\n",
              "      <th>scaled_Nb_Of_Products</th>\n",
              "      <th>scaled_Anciennete_Client</th>\n",
              "      <th>scaled_Duree_1er_Contrat</th>\n",
              "    </tr>\n",
              "  </thead>\n",
              "  <tbody>\n",
              "    <tr>\n",
              "      <th>0</th>\n",
              "      <td>0.070732</td>\n",
              "      <td>0.075589</td>\n",
              "      <td>0.074592</td>\n",
              "      <td>0.06977</td>\n",
              "      <td>0.078693</td>\n",
              "      <td>0.074072</td>\n",
              "      <td>0.071143</td>\n",
              "      <td>0.067299</td>\n",
              "      <td>0</td>\n",
              "      <td>False</td>\n",
              "      <td>1.5</td>\n",
              "      <td>0.000000</td>\n",
              "      <td>0.000</td>\n",
              "      <td>0.666667</td>\n",
              "      <td>0.111111</td>\n",
              "      <td>0.0</td>\n",
              "      <td>-0.405941</td>\n",
              "      <td>-0.381818</td>\n",
              "    </tr>\n",
              "    <tr>\n",
              "      <th>1</th>\n",
              "      <td>0.070732</td>\n",
              "      <td>0.075589</td>\n",
              "      <td>0.074592</td>\n",
              "      <td>0.06977</td>\n",
              "      <td>0.078693</td>\n",
              "      <td>0.074072</td>\n",
              "      <td>0.071143</td>\n",
              "      <td>0.067299</td>\n",
              "      <td>0</td>\n",
              "      <td>False</td>\n",
              "      <td>1.5</td>\n",
              "      <td>-0.692308</td>\n",
              "      <td>0.000</td>\n",
              "      <td>0.000000</td>\n",
              "      <td>-0.222222</td>\n",
              "      <td>0.0</td>\n",
              "      <td>-0.475248</td>\n",
              "      <td>-0.490909</td>\n",
              "    </tr>\n",
              "    <tr>\n",
              "      <th>2</th>\n",
              "      <td>0.076198</td>\n",
              "      <td>0.054774</td>\n",
              "      <td>0.074592</td>\n",
              "      <td>0.06977</td>\n",
              "      <td>0.078693</td>\n",
              "      <td>0.074072</td>\n",
              "      <td>0.071824</td>\n",
              "      <td>0.051242</td>\n",
              "      <td>0</td>\n",
              "      <td>False</td>\n",
              "      <td>0.0</td>\n",
              "      <td>0.153846</td>\n",
              "      <td>-1.125</td>\n",
              "      <td>0.333333</td>\n",
              "      <td>-0.055556</td>\n",
              "      <td>0.0</td>\n",
              "      <td>2.366337</td>\n",
              "      <td>0.654545</td>\n",
              "    </tr>\n",
              "    <tr>\n",
              "      <th>3</th>\n",
              "      <td>0.070732</td>\n",
              "      <td>0.075589</td>\n",
              "      <td>0.074592</td>\n",
              "      <td>0.06977</td>\n",
              "      <td>0.078693</td>\n",
              "      <td>0.074072</td>\n",
              "      <td>0.071143</td>\n",
              "      <td>0.067299</td>\n",
              "      <td>0</td>\n",
              "      <td>False</td>\n",
              "      <td>1.0</td>\n",
              "      <td>0.000000</td>\n",
              "      <td>0.000</td>\n",
              "      <td>0.000000</td>\n",
              "      <td>0.000000</td>\n",
              "      <td>0.0</td>\n",
              "      <td>-0.524752</td>\n",
              "      <td>-0.745455</td>\n",
              "    </tr>\n",
              "    <tr>\n",
              "      <th>4</th>\n",
              "      <td>0.076198</td>\n",
              "      <td>0.075589</td>\n",
              "      <td>0.074592</td>\n",
              "      <td>0.06977</td>\n",
              "      <td>0.078693</td>\n",
              "      <td>0.074072</td>\n",
              "      <td>0.083357</td>\n",
              "      <td>0.182593</td>\n",
              "      <td>1</td>\n",
              "      <td>False</td>\n",
              "      <td>1.5</td>\n",
              "      <td>-0.538462</td>\n",
              "      <td>0.000</td>\n",
              "      <td>0.000000</td>\n",
              "      <td>-0.500000</td>\n",
              "      <td>0.0</td>\n",
              "      <td>-0.009901</td>\n",
              "      <td>0.600000</td>\n",
              "    </tr>\n",
              "  </tbody>\n",
              "</table>\n",
              "</div>"
            ],
            "text/plain": [
              "   Customer_Type  P_Client  ...  scaled_Anciennete_Client  scaled_Duree_1er_Contrat\n",
              "0       0.070732  0.075589  ...                 -0.405941                 -0.381818\n",
              "1       0.070732  0.075589  ...                 -0.475248                 -0.490909\n",
              "2       0.076198  0.054774  ...                  2.366337                  0.654545\n",
              "3       0.070732  0.075589  ...                 -0.524752                 -0.745455\n",
              "4       0.076198  0.075589  ...                 -0.009901                  0.600000\n",
              "\n",
              "[5 rows x 18 columns]"
            ]
          },
          "metadata": {},
          "execution_count": 88
        }
      ]
    },
    {
      "cell_type": "code",
      "metadata": {
        "colab": {
          "base_uri": "https://localhost:8080/"
        },
        "id": "rA8C_jBw4nQq",
        "outputId": "b54739b2-e007-420a-cd18-aafb80d5ce2c"
      },
      "source": [
        "# check the distribution\n",
        "data['Y'].value_counts()/data.shape[0]"
      ],
      "execution_count": 141,
      "outputs": [
        {
          "output_type": "execute_result",
          "data": {
            "text/plain": [
              "0    0.927138\n",
              "1    0.072862\n",
              "Name: Y, dtype: float64"
            ]
          },
          "metadata": {},
          "execution_count": 141
        }
      ]
    },
    {
      "cell_type": "markdown",
      "metadata": {
        "id": "-XJKz2Kk5mTr"
      },
      "source": [
        "Distributions look appealing. Majority label (0) is 93% in dataset whereas minority label (1) is just 7%. So, a accuracy of 93% can be achieved simply by predicting complete set as majority label i.e. 0. But that is no helpful since we are building classifier to classify minority label (important) from majority label.\n",
        "\n",
        "In logistic regression, another technique comes handy to work with imbalance distribution. This is to use class-weights in accordance with the class distribution. Class-weights is the extent upon which the algorithm is punished for any wrong prediction of that class."
      ]
    },
    {
      "cell_type": "markdown",
      "metadata": {
        "id": "WIgOguR4Fx53"
      },
      "source": [
        "## Simple Logistic regression"
      ]
    },
    {
      "cell_type": "code",
      "metadata": {
        "id": "cl9mTdUc5R_m"
      },
      "source": [
        "# import model and matrics\n",
        "from sklearn.linear_model import LogisticRegression\n",
        "from sklearn.model_selection import train_test_split, GridSearchCV, cross_val_score, RepeatedStratifiedKFold, StratifiedKFold\n",
        "from sklearn.metrics import accuracy_score, confusion_matrix,roc_curve, roc_auc_score, precision_score, recall_score, precision_recall_curve\n",
        "from sklearn.metrics import f1_score\n",
        "\n",
        "# split dataset into x,y\n",
        "X = data.drop('Y', axis = 1)\n",
        "y = data['Y']\n",
        "\n",
        "# train-test split\n",
        "X_train, X_test, y_train, y_test = train_test_split(X, y, test_size=0.3, random_state=123)"
      ],
      "execution_count": 214,
      "outputs": []
    },
    {
      "cell_type": "code",
      "metadata": {
        "colab": {
          "base_uri": "https://localhost:8080/"
        },
        "id": "kSZP9Rxu4nTv",
        "outputId": "b9f126b2-3320-41d7-d336-6596ea80d7f4"
      },
      "source": [
        "# building simple logitic regression model with default weights\n",
        "\n",
        "lr_simple = LogisticRegression(random_state=123,penalty='none', class_weight=None)\n",
        "\n",
        "# fit it\n",
        "lr_simple.fit(X_train,y_train)\n",
        "\n",
        "# test\n",
        "y_pred_simple = lr_simple.predict(X_test)\n",
        "\n",
        "lr_simple_probs = lr_simple.predict_proba(X_test)\n",
        "# keep probabilities for the positive outcome only\n",
        "lr_simple_probs = lr_simple_probs[:, 1]\n",
        "                       \n",
        "# performance\n",
        "print(f'Accuracy : {np.round(accuracy_score(y_test,y_pred_simple),2)}')\n",
        "print(f'Recall : {np.round(recall_score(y_test,y_pred_simple),2)}')\n",
        "print(f'Precision : {np.round(precision_score(y_test,y_pred_simple),2)}')\n",
        "print(f'AUC: {np.round(roc_auc_score(y_test, y_pred_simple),2)}')\n",
        "print(f'Confusion Matrix: \\n{confusion_matrix(y_test, y_pred_simple)}')\n"
      ],
      "execution_count": 144,
      "outputs": [
        {
          "output_type": "stream",
          "name": "stdout",
          "text": [
            "Accuracy : 0.94\n",
            "Recall : 0.24\n",
            "Precision : 0.72\n",
            "AUC: 0.61\n",
            "Confusion Matrix: \n",
            "[[1861   13]\n",
            " [ 110   34]]\n"
          ]
        }
      ]
    },
    {
      "cell_type": "markdown",
      "metadata": {
        "id": "26JXpglY8xZL"
      },
      "source": [
        "That accuracy means nothing dont smile:). For minority class, above model is able to predict 34 correct out of 144 samples. For majority class, model got only 13 prediction wrong. Model is not doing a good job in predicting minority class. Nonetheless, with these default weights performance values, we got benchmark to measure subsequent model modifications. "
      ]
    },
    {
      "cell_type": "markdown",
      "metadata": {
        "id": "zHxzFSPL-hV3"
      },
      "source": [
        "##Weighted Logistic Regression\n",
        "\n",
        "\n",
        "\n",
        "In case be unbalanced label distribution, the best practice for weights is to use the inverse of the label distribution. In our set, label distribution is 7:93 so we can specify weights as inverse of label distribution. For majority class, will use weight of 7 and for minority class, will use weight of 93. So the penalty of wrong prediction of minority class would be 93 times more severe than wrong prediction of majority class. Moreover, with this class-weight values, we would expect our model to perform better then the default one i.e. previous model.\n",
        "\n",
        "To specify weights we will make use of class_weight hyperparameter of Logistic-regression. The class_weight hyperparameter is a dictionary that defines weight of each label. Weights associated with classes in the form **{class_label: weight}**. If not given, all classes are supposed to have same weight value."
      ]
    },
    {
      "cell_type": "code",
      "metadata": {
        "colab": {
          "base_uri": "https://localhost:8080/"
        },
        "id": "_huM7PY34nWM",
        "outputId": "21b71ce1-8670-46f6-e22e-d7f54cc57773"
      },
      "source": [
        "# define class weights\n",
        "w = {0:7, 1:93}\n",
        "\n",
        "# define model\n",
        "lr_weighted = LogisticRegression(random_state=77, penalty = 'none',class_weight=w)\n",
        "\n",
        "# fit it\n",
        "lr_weighted.fit(X_train,y_train)\n",
        "\n",
        "# test\n",
        "y_pred_weighted = lr_weighted.predict(X_test)\n",
        "\n",
        "lr_weighted_probs = lr_weighted.predict_proba(X_test)\n",
        "# keep probabilities for the positive outcome only\n",
        "lr_weighted_probs = lr_weighted_probs[:, 1]\n",
        "\n",
        "\n",
        "# performance\n",
        "print(f'Accuracy : {np.round(accuracy_score(y_test,y_pred_weighted),3)}')\n",
        "print(f'Recall : {np.round(recall_score(y_test,y_pred_weighted),3)}')\n",
        "print(f'Precision : {np.round(precision_score(y_test,y_pred_weighted),3)}')\n",
        "print(f'AUC: {np.round(roc_auc_score(y_test, y_pred_weighted),3)}')\n",
        "print(f'Confusion Matrix: \\n{confusion_matrix(y_test, y_pred_weighted)}')"
      ],
      "execution_count": 146,
      "outputs": [
        {
          "output_type": "stream",
          "name": "stdout",
          "text": [
            "Accuracy : 0.896\n",
            "Recall : 0.896\n",
            "Precision : 0.398\n",
            "AUC: 0.896\n",
            "Confusion Matrix: \n",
            "[[1679  195]\n",
            " [  15  129]]\n"
          ]
        }
      ]
    },
    {
      "cell_type": "markdown",
      "metadata": {
        "id": "v6nQxkd1_w6s"
      },
      "source": [
        "With weighted-LR, Area-Under-Curve (AUC) increased drastically from 0.61 to 0.896 Recall score imporved from 0.24 to 0.896. Correct predictions for minority label increased as well. Though model has 195 wrong prediction in majority class, but custom weights have shown improvement in predicting minority class as expected ( 129/144 correct predictions)."
      ]
    },
    {
      "cell_type": "markdown",
      "metadata": {
        "id": "zJUg2CABGaUf"
      },
      "source": [
        "## Weighted LR with GridSearch\n",
        "In this part, will perform a grid search on different hyperparameters and will retain the one with a better performance score."
      ]
    },
    {
      "cell_type": "code",
      "metadata": {
        "id": "HOoLGHgn4nY0"
      },
      "source": [
        "# define weight hyperparameter\n",
        "w = [{0:7, 1:93}]\n",
        "inv_reg = [0.01, 0.1, 1, 10,30, 50, 70, 100, 1000]\n",
        "hyperparam_grid = {\"class_weight\": w\n",
        "                   ,\"C\": inv_reg\n",
        "                   ,\"fit_intercept\" : [False,True]}"
      ],
      "execution_count": 147,
      "outputs": []
    },
    {
      "cell_type": "markdown",
      "metadata": {
        "id": "VbBpu5PXG10Z"
      },
      "source": [
        "We will perform grid-search on above set of hyperparamters. This list can be as exhaustive as you want it to be. Can even make a simple function to create a large grid of different combinations. Since, ROC-AUC score is the evaluation metric here, so this score will be optimized."
      ]
    },
    {
      "cell_type": "code",
      "metadata": {
        "colab": {
          "base_uri": "https://localhost:8080/"
        },
        "id": "mRtrO4gpGtRP",
        "outputId": "3d1bb9f4-f910-404d-a94d-04db7bd7033b"
      },
      "source": [
        "# define weighted lr + weights gridsearch\n",
        "\n",
        "weighted_lr_cv = LogisticRegression(random_state=13)\n",
        "\n",
        "# define evaluation procedure : metric chosen ROC-AUC score ( this score will be optimized)\n",
        "grid = GridSearchCV(weighted_lr_cv, hyperparam_grid, scoring=\"roc_auc\", cv=5, n_jobs=-1, refit=True)\n",
        "\n",
        "# fit on the whole dataset\n",
        "grid.fit(X,y)\n",
        "\n",
        "print(f'Best score: {grid.best_score_} with param: {grid.best_params_}')"
      ],
      "execution_count": 148,
      "outputs": [
        {
          "output_type": "stream",
          "name": "stdout",
          "text": [
            "Best score: 0.9301769143904555 with param: {'C': 1, 'class_weight': {0: 7, 1: 93}, 'fit_intercept': True}\n"
          ]
        }
      ]
    },
    {
      "cell_type": "code",
      "metadata": {
        "colab": {
          "base_uri": "https://localhost:8080/"
        },
        "id": "IoRAR2hMCuP_",
        "outputId": "e28ac9d7-7e7b-426f-bb5c-418ec7d84391"
      },
      "source": [
        "# define lr with best params\n",
        "lr_weighted_HT = LogisticRegression(random_state=113,C=1,fit_intercept = True, penalty='none',class_weight={0: 7, 1: 93} )\n",
        "\n",
        "# fit it\n",
        "lr_weighted_HT.fit(X_train,y_train)\n",
        "\n",
        "# test\n",
        "y_pred_weighted_HT = lr_weighted_HT.predict(X_test)\n",
        "\n",
        "lr_weighted_HT_probs = lr_weighted_HT.predict_proba(X_test)\n",
        "# keep probabilities for the positive outcome only\n",
        "lr_weighted_HT_probs = lr_weighted_HT_probs[:, 1]\n",
        "\n",
        "# performance\n",
        "print(f'Accuracy : {np.round(accuracy_score(y_test,y_pred_weighted_HT),3)}')\n",
        "print(f'Recall : {np.round(recall_score(y_test,y_pred_weighted_HT),3)}')\n",
        "print(f'Precision : {np.round(precision_score(y_test,y_pred_weighted_HT),3)}')\n",
        "print(f'AUC: {np.round(roc_auc_score(y_test, y_pred_weighted_HT),3)}')\n",
        "print(f'Confusion Matrix: \\n{confusion_matrix(y_test, y_pred_weighted_HT)}')"
      ],
      "execution_count": 149,
      "outputs": [
        {
          "output_type": "stream",
          "name": "stdout",
          "text": [
            "Accuracy : 0.896\n",
            "Recall : 0.896\n",
            "Precision : 0.398\n",
            "AUC: 0.896\n",
            "Confusion Matrix: \n",
            "[[1679  195]\n",
            " [  15  129]]\n"
          ]
        }
      ]
    },
    {
      "cell_type": "markdown",
      "metadata": {
        "id": "NlS6lPhIHznx"
      },
      "source": [
        "With weighted-LR-HT, hyprerparameers tuning didnt imporve our model as we expeted."
      ]
    },
    {
      "cell_type": "markdown",
      "metadata": {
        "id": "TgkUBbdv-GzA"
      },
      "source": [
        "## Penalized Weighted LR with GridSearch : Lasso, Ridge & Elasticnet\n",
        "\n",
        "In this section, we add the penality argument. We tested Lasso, Ridge and Elasticnet penalities alogside with HT."
      ]
    },
    {
      "cell_type": "markdown",
      "metadata": {
        "id": "tJszx6FXD9E-"
      },
      "source": [
        "### Lasso Regularization\n"
      ]
    },
    {
      "cell_type": "code",
      "metadata": {
        "id": "XsLxulxDVMvV"
      },
      "source": [
        "# define hyperparameters\n",
        "w = [{0:7, 1:93}]\n",
        "inv_reg = [0.01, 0.1, 1, 10,30, 50, 70, 100, 1000]\n",
        "hyperparam_grid = {\"class_weight\": w\n",
        "                   ,\"C\": inv_reg\n",
        "                   ,\"fit_intercept\" : [False,True]}"
      ],
      "execution_count": 151,
      "outputs": []
    },
    {
      "cell_type": "code",
      "metadata": {
        "colab": {
          "base_uri": "https://localhost:8080/"
        },
        "id": "Hj4SPIn2XlaA",
        "outputId": "600baae7-096b-45da-897d-696a637b3dc1"
      },
      "source": [
        "# logistic model classifier\n",
        "lr_final_lasso = LogisticRegression(random_state=123)\n",
        "# define evaluation procedure\n",
        "grid = GridSearchCV(lr_final_lasso,hyperparam_grid,scoring=\"roc_auc\", cv=5, n_jobs=-1, refit=True)\n",
        "grid.fit(X,y)\n",
        "print(f'Best score: {grid.best_score_} with param: {grid.best_params_}')"
      ],
      "execution_count": 152,
      "outputs": [
        {
          "output_type": "stream",
          "name": "stdout",
          "text": [
            "Best score: 0.9301769143904555 with param: {'C': 1, 'class_weight': {0: 7, 1: 93}, 'fit_intercept': True}\n"
          ]
        }
      ]
    },
    {
      "cell_type": "code",
      "metadata": {
        "colab": {
          "base_uri": "https://localhost:8080/"
        },
        "id": "7HZ807IwXllg",
        "outputId": "9d2926ed-49a5-4f8d-8b88-068996670760"
      },
      "source": [
        "# define lr with best params\n",
        "lr_final_lasso = LogisticRegression(random_state=123,C=1, penalty='l1',fit_intercept = True,solver = 'saga',class_weight={0: 7, 1: 93} )\n",
        "\n",
        "# fit it\n",
        "lr_final_lasso.fit(X_train,y_train)\n",
        "\n",
        "# test\n",
        "y_pred_final_lasso = lr_final_lasso.predict(X_test)\n",
        "\n",
        "lr_final_lasso_probs = lr_final_lasso.predict_proba(X_test)\n",
        "# keep probabilities for the positive outcome only\n",
        "lr_final_lasso_probs = lr_final_lasso_probs[:, 1]\n",
        "\n",
        "# performance\n",
        "# performance\n",
        "print(f'Accuracy : {np.round(accuracy_score(y_test,y_pred_final_lasso),3)}')\n",
        "print(f'Recall : {np.round(recall_score(y_test,y_pred_final_lasso),3)}')\n",
        "print(f'Precision : {np.round(precision_score(y_test,y_pred_final_lasso),3)}')\n",
        "print(f'AUC: {np.round(roc_auc_score(y_test, y_pred_final_lasso),3)}')\n",
        "print(f'Confusion Matrix: \\n{confusion_matrix(y_test, y_pred_final_lasso)}')"
      ],
      "execution_count": 156,
      "outputs": [
        {
          "output_type": "stream",
          "name": "stdout",
          "text": [
            "Accuracy : 0.856\n",
            "Recall : 0.924\n",
            "Precision : 0.323\n",
            "AUC: 0.887\n",
            "Confusion Matrix: \n",
            "[[1595  279]\n",
            " [  11  133]]\n"
          ]
        }
      ]
    },
    {
      "cell_type": "markdown",
      "metadata": {
        "id": "b2RTkkSZD1yr"
      },
      "source": [
        "Lasso reguralization didnt improve our model that much, the roc-auc dropped a bit and the recall increased."
      ]
    },
    {
      "cell_type": "markdown",
      "metadata": {
        "id": "_-3kEkC4EEmy"
      },
      "source": [
        "### Ridge Regularization"
      ]
    },
    {
      "cell_type": "code",
      "metadata": {
        "id": "cr8y_XycEXfq"
      },
      "source": [
        "# define hyperparameters\n",
        "w = [{0:7, 1:93}]\n",
        "inv_reg = [0.01, 0.1, 1, 10,30, 50, 70, 100, 1000]\n",
        "hyperparam_grid = {\"class_weight\": w\n",
        "                   ,\"C\": inv_reg\n",
        "                   ,\"fit_intercept\" : [False,True]}"
      ],
      "execution_count": 157,
      "outputs": []
    },
    {
      "cell_type": "code",
      "metadata": {
        "colab": {
          "base_uri": "https://localhost:8080/"
        },
        "id": "QXL8G07MEXfq",
        "outputId": "47865b87-9f02-4cac-ed41-ad650203316e"
      },
      "source": [
        "# logistic model classifier\n",
        "lr_final_ridge = LogisticRegression(random_state=123)\n",
        "# define evaluation procedure\n",
        "grid = GridSearchCV(lr_final_ridge,hyperparam_grid,scoring=\"roc_auc\", cv=5, n_jobs=-1, refit=True)\n",
        "grid.fit(X,y)\n",
        "print(f'Best score: {grid.best_score_} with param: {grid.best_params_}')"
      ],
      "execution_count": 158,
      "outputs": [
        {
          "output_type": "stream",
          "name": "stdout",
          "text": [
            "Best score: 0.9301769143904555 with param: {'C': 1, 'class_weight': {0: 7, 1: 93}, 'fit_intercept': True}\n"
          ]
        }
      ]
    },
    {
      "cell_type": "code",
      "metadata": {
        "colab": {
          "base_uri": "https://localhost:8080/"
        },
        "id": "arwGmoDfEXfr",
        "outputId": "22187858-fdf5-4524-cc74-3e3dd5ce378d"
      },
      "source": [
        "# define lr with best params\n",
        "lr_final_ridge = LogisticRegression(random_state=7,C=1, penalty='l2',fit_intercept = True,class_weight={0: 7, 1: 93} )\n",
        "\n",
        "# fit it\n",
        "lr_final_ridge.fit(X_train,y_train)\n",
        "\n",
        "# test\n",
        "y_pred_final_ridge = lr_final_ridge.predict(X_test)\n",
        "\n",
        "lr_final_ridge_probs = lr_final_ridge.predict_proba(X_test)\n",
        "# keep probabilities for the positive outcome only\n",
        "lr_final_ridge_probs = lr_final_ridge_probs[:, 1]\n",
        "\n",
        "# performance\n",
        "print(f'Accuracy : {np.round(accuracy_score(y_test,y_pred_final_ridge),3)}')\n",
        "print(f'Recall : {np.round(recall_score(y_test,y_pred_final_ridge),3)}')\n",
        "print(f'Precision : {np.round(precision_score(y_test,y_pred_final_ridge),3)}')\n",
        "print(f'AUC: {np.round(roc_auc_score(y_test, y_pred_final_ridge),3)}')\n",
        "print(f'Confusion Matrix: \\n{confusion_matrix(y_test, y_pred_final_ridge)}')"
      ],
      "execution_count": 160,
      "outputs": [
        {
          "output_type": "stream",
          "name": "stdout",
          "text": [
            "Accuracy : 0.896\n",
            "Recall : 0.896\n",
            "Precision : 0.399\n",
            "AUC: 0.896\n",
            "Confusion Matrix: \n",
            "[[1680  194]\n",
            " [  15  129]]\n"
          ]
        }
      ]
    },
    {
      "cell_type": "markdown",
      "metadata": {
        "id": "SjEtE0B8Fl4p"
      },
      "source": [
        "the auc score and the number of correct prediction for miniroty class increased."
      ]
    },
    {
      "cell_type": "markdown",
      "metadata": {
        "id": "MbjBip9qEKzY"
      },
      "source": [
        "### Elasticnet Regularization"
      ]
    },
    {
      "cell_type": "code",
      "metadata": {
        "id": "QNA15EFiF0Dh"
      },
      "source": [
        "# define hyperparameters\n",
        "w = [{0:7, 1:93}]\n",
        "inv_reg = [0.01, 0.1, 1, 10,30, 50, 70, 100, 1000]\n",
        "l1_ratio = [0.001,0.01,0.1,0.2,0.5,0.8]\n",
        "hyperparam_grid = {\"class_weight\": w\n",
        "                   ,\"l1_ratio\" : l1_ratio #if l1_ratio = 1 lasso, if l1_ratio = 0 ridge\n",
        "                   ,\"C\": inv_reg\n",
        "                   ,\"fit_intercept\": [True, False]  }"
      ],
      "execution_count": 161,
      "outputs": []
    },
    {
      "cell_type": "code",
      "metadata": {
        "colab": {
          "base_uri": "https://localhost:8080/"
        },
        "id": "VaDnej3-F0Dh",
        "outputId": "3e73e8e1-abd6-4a2b-b25e-6ad170316812"
      },
      "source": [
        "# logistic model classifier\n",
        "lr_final_elastic = LogisticRegression(random_state=123)\n",
        "# define evaluation procedure\n",
        "grid = GridSearchCV(lr_final_elastic,hyperparam_grid,scoring=\"roc_auc\", cv=5, n_jobs=-1, refit=True)\n",
        "grid.fit(X,y)\n",
        "print(f'Best score: {grid.best_score_} with param: {grid.best_params_}')"
      ],
      "execution_count": 162,
      "outputs": [
        {
          "output_type": "stream",
          "name": "stdout",
          "text": [
            "Best score: 0.9301769143904555 with param: {'C': 1, 'class_weight': {0: 7, 1: 93}, 'fit_intercept': True, 'l1_ratio': 0.001}\n"
          ]
        }
      ]
    },
    {
      "cell_type": "code",
      "metadata": {
        "colab": {
          "base_uri": "https://localhost:8080/"
        },
        "id": "Hh4wztN0F0Di",
        "outputId": "bb13a3bf-84c6-4f9c-d930-01e702b77a00"
      },
      "source": [
        "# define lr with best params\n",
        "lr_final_elastic = LogisticRegression(random_state=1523,C=1,fit_intercept=True, penalty='elasticnet',l1_ratio=0.001, solver = 'saga',class_weight={0: 7, 1: 93} )\n",
        "\n",
        "# fit it\n",
        "lr_final_elastic.fit(X_train,y_train)\n",
        "\n",
        "# test\n",
        "y_pred_final_elastic = lr_final_elastic.predict(X_test)\n",
        "\n",
        "lr_final_elastic_probs = lr_final_elastic.predict_proba(X_test)\n",
        "# keep probabilities for the positive outcome only\n",
        "lr_final_elastic_probs = lr_final_elastic_probs[:, 1]\n",
        "\n",
        "# performance\n",
        "print(f'Accuracy : {np.round(accuracy_score(y_test,y_pred_final_elastic),3)}')\n",
        "print(f'Recall : {np.round(recall_score(y_test,y_pred_final_elastic),3)}')\n",
        "print(f'Precision : {np.round(precision_score(y_test,y_pred_final_elastic),3)}')\n",
        "print(f'AUC: {np.round(roc_auc_score(y_test, y_pred_final_elastic),3)}')\n",
        "print(f'Confusion Matrix: \\n{confusion_matrix(y_test, y_pred_final_elastic)}')"
      ],
      "execution_count": 164,
      "outputs": [
        {
          "output_type": "stream",
          "name": "stdout",
          "text": [
            "Accuracy : 0.856\n",
            "Recall : 0.924\n",
            "Precision : 0.323\n",
            "AUC: 0.887\n",
            "Confusion Matrix: \n",
            "[[1595  279]\n",
            " [  11  133]]\n"
          ]
        }
      ]
    },
    {
      "cell_type": "markdown",
      "metadata": {
        "id": "Hj8GEzD0k7C3"
      },
      "source": [
        "## ROC-Curve visualisation"
      ]
    },
    {
      "cell_type": "code",
      "metadata": {
        "colab": {
          "base_uri": "https://localhost:8080/",
          "height": 527
        },
        "id": "lzLxj4F5YDE5",
        "outputId": "e89f199d-cec9-4632-90f7-ef7c7bcb865d"
      },
      "source": [
        "fpr_lr_simple, tpr_lr_simple, threshold = roc_curve(y_test, lr_simple_probs)\n",
        "fpr_lr_weighted, tpr_lr_weighted, threshold_weighted = roc_curve(y_test, lr_weighted_probs)\n",
        "fpr_lr_weighted_HT, tpr_lr_weighted_HT, threshold_weighted_HT = roc_curve(y_test, lr_weighted_HT_probs)\n",
        "fpr_lr_final_lasso, tpr_lr_final_lasso, threshold_lasso = roc_curve(y_test, lr_final_lasso_probs)\n",
        "fpr_lr_final_ridge, tpr_lr_final_ridge, threshold_ridge = roc_curve(y_test, lr_final_ridge_probs)\n",
        "fpr_lr_final_elastic, tpr_lr_final_elastic, threshold_elastic = roc_curve(y_test, lr_final_elastic_probs)\n",
        "\n",
        "\n",
        "\n",
        "def graph_roc_curve_multiple(fpr_lr_simple, tpr_lr_simple,fpr_lr_weighted, tpr_lr_weighted,fpr_lr_weighted_HT, tpr_lr_weighted_HT,fpr_lr_final_lasso, tpr_lr_final_lasso, fpr_lr_final_ridge, tpr_lr_final_ridge,fpr_lr_final_elastic, tpr_lr_final_elastic):\n",
        "    plt.figure(figsize=(16,8))\n",
        "    plt.title('ROC Curve', fontsize=18)\n",
        "    \n",
        "    plt.plot(fpr_lr_simple, tpr_lr_simple, label='Simple LR AUC score: {:.4f}'.format(roc_auc_score(y_test, y_pred_simple)))\n",
        "\n",
        "    plt.plot(fpr_lr_weighted, tpr_lr_weighted, label='Weighted LR AUC score: {:.4f}'.format(roc_auc_score(y_test, y_pred_weighted)))\n",
        "    plt.plot(fpr_lr_weighted, tpr_lr_weighted, label='Weighted LR + HT + AUC score: {:.4f}'.format(roc_auc_score(y_test, y_pred_weighted_HT)))\n",
        "\n",
        "    plt.plot(fpr_lr_final_lasso, tpr_lr_final_lasso, label='Weighted LR + HT + lasso penalty \\n AUC score: {:.4f}'.format(roc_auc_score(y_test, y_pred_final_lasso)))\n",
        "    plt.plot(fpr_lr_final_ridge, tpr_lr_final_ridge, label='Weighted LR + HT + Ridge penalty \\n AUC score: {:.4f}'.format(roc_auc_score(y_test, y_pred_final_ridge)))\n",
        "    plt.plot(fpr_lr_final_elastic, tpr_lr_final_elastic, label='Weighted LR + HT + elasticnet penalty \\n AUC score: {:.4f}'.format(roc_auc_score(y_test, y_pred_final_elastic)))\n",
        "\n",
        "    plt.plot([0, 1], [0, 1], 'k--')\n",
        "    plt.axis([-0.01, 1, 0, 1])\n",
        "    plt.xlabel('False Positive Rate', fontsize=16)\n",
        "    plt.ylabel('True Positive Rate', fontsize=16)\n",
        "    \n",
        "    plt.legend()\n",
        "    \n",
        "graph_roc_curve_multiple(fpr_lr_simple, tpr_lr_simple,fpr_lr_weighted, tpr_lr_weighted,fpr_lr_weighted_HT, tpr_lr_weighted_HT,fpr_lr_final_lasso, tpr_lr_final_lasso, fpr_lr_final_ridge, tpr_lr_final_ridge,fpr_lr_final_elastic, tpr_lr_final_elastic)\n",
        "plt.show()"
      ],
      "execution_count": 165,
      "outputs": [
        {
          "output_type": "display_data",
          "data": {
            "image/png": "[encoded data removed]",
            "text/plain": [
              "<Figure size 1152x576 with 1 Axes>"
            ]
          },
          "metadata": {
            "needs_background": "light"
          }
        }
      ]
    },
    {
      "cell_type": "markdown",
      "metadata": {
        "id": "TcKSmcZlGXMc"
      },
      "source": [
        "The figure above shows that :\n",
        "- Weighted LR+HT+Ridge penalty is the est model in terms of roc-auc score (0.896). \n",
        "- The wighted models without any penalty performed well."
      ]
    },
    {
      "cell_type": "markdown",
      "metadata": {
        "id": "yU6F4NN9ldfV"
      },
      "source": [
        "## Feature importance : Weighted LR + HT + Ridge penalty ( best model)\n",
        "\n",
        "For further imporvement of the model, we can apply feature importances to have an idea about the features we can select and the \"useless\" features to get rid of them."
      ]
    },
    {
      "cell_type": "code",
      "metadata": {
        "colab": {
          "base_uri": "https://localhost:8080/",
          "height": 481
        },
        "id": "ZpXY3ncYG01C",
        "outputId": "f1522b17-8142-4b8c-8ff1-436473fec8f5"
      },
      "source": [
        "#importance = lr_final_ridge.coef_[0]\n",
        "feats = {} # a dict to hold feature_name: feature_importance\n",
        "for feature, importance in zip(X_train.columns, lr_final_ridge.coef_[0]):\n",
        "    feats[feature] = importance #add the name/value pair \n",
        "\n",
        "importances = pd.DataFrame.from_dict(feats, orient='index').rename(columns={0: 'Gini-importance'})\n",
        "importances.sort_values(by='Gini-importance').plot(kind='bar', rot=90)"
      ],
      "execution_count": 215,
      "outputs": [
        {
          "output_type": "execute_result",
          "data": {
            "text/plain": [
              "<matplotlib.axes._subplots.AxesSubplot at 0x7f800190c910>"
            ]
          },
          "metadata": {},
          "execution_count": 215
        },
        {
          "output_type": "display_data",
          "data": {
            "image/png": "[encoded data removed]",
            "text/plain": [
              "<Figure size 432x288 with 1 Axes>"
            ]
          },
          "metadata": {
            "needs_background": "light"
          }
        }
      ]
    },
    {
      "cell_type": "markdown",
      "metadata": {
        "id": "lzItm_0auz1L"
      },
      "source": [
        "- The positive scores mean that the features corresponding contribute the most on predicting the postive class:1, while the negative scores corresponds to improrntant features in predicting the class:0.\n",
        "- Based on the figure above, we can say that the features: \n",
        "\n",
        "**{'P_Client',  'scaled_Years_At_Business', 'scaled_Net_Annual_Income', 'scaled_Age_Client', 'scaled_Anciennete_Client', 'scaled_Number_Of_Dependant', 'scaled_Duree_1er_Contrat'}** are somehow \"insignificant\" to the model (weak impact on prediction). In the next step we will remove them to see if our model will achieve any improvement."
      ]
    },
    {
      "cell_type": "code",
      "metadata": {
        "id": "DO7lPcf_wEBw"
      },
      "source": [
        "new_X = X.drop(['P_Client','scaled_Years_At_Business','scaled_Net_Annual_Income','scaled_Age_Client','scaled_Anciennete_Client',\n",
        "                'scaled_Number_Of_Dependant','scaled_Duree_1er_Contrat'],axis = 1)"
      ],
      "execution_count": 216,
      "outputs": []
    },
    {
      "cell_type": "code",
      "metadata": {
        "id": "ec8fgp7VwtQ-"
      },
      "source": [
        "# train-test split\n",
        "X_train, X_test, y_train, y_test = train_test_split(new_X, y, test_size=0.3, random_state=123)"
      ],
      "execution_count": 217,
      "outputs": []
    },
    {
      "cell_type": "code",
      "metadata": {
        "id": "qXKeMlmGv9yl"
      },
      "source": [
        "# define hyperparameters\n",
        "w = [{0:7, 1:93}]\n",
        "inv_reg = [0.01, 0.1, 1, 10,30, 50, 70, 100, 1000]\n",
        "hyperparam_grid = {\"class_weight\": w\n",
        "                   ,\"C\": inv_reg\n",
        "                   ,\"fit_intercept\": [True, False]  }"
      ],
      "execution_count": 218,
      "outputs": []
    },
    {
      "cell_type": "code",
      "metadata": {
        "colab": {
          "base_uri": "https://localhost:8080/"
        },
        "id": "Z-7JRPfJv9yl",
        "outputId": "99798f4d-367d-479b-bb31-28287a7be82b"
      },
      "source": [
        "# logistic model classifier\n",
        "lr_final_ridge = LogisticRegression(random_state=123)\n",
        "# define evaluation procedure\n",
        "grid = GridSearchCV(lr_final_ridge,hyperparam_grid,scoring=\"roc_auc\", cv=5, n_jobs=-1, refit=True)\n",
        "grid.fit(new_X,y)\n",
        "print(f'Best score: {grid.best_score_} with param: {grid.best_params_}')"
      ],
      "execution_count": 219,
      "outputs": [
        {
          "output_type": "stream",
          "name": "stdout",
          "text": [
            "Best score: 0.9296810303913065 with param: {'C': 100, 'class_weight': {0: 7, 1: 93}, 'fit_intercept': True}\n"
          ]
        }
      ]
    },
    {
      "cell_type": "code",
      "metadata": {
        "colab": {
          "base_uri": "https://localhost:8080/"
        },
        "id": "5i2xETkFv9yn",
        "outputId": "23bd99eb-bd51-4f73-c247-5372cedc3fd8"
      },
      "source": [
        "# define lr with best params\n",
        "lr_final_ridge = LogisticRegression(random_state=123,C=100,fit_intercept=True, penalty='l2',class_weight={0: 7, 1: 93} )\n",
        "\n",
        "# fit it\n",
        "lr_final_ridge.fit(X_train,y_train)\n",
        "\n",
        "# test\n",
        "y_pred_final_ridge = lr_final_ridge.predict(X_test)\n",
        "\n",
        "lr_final_ridge_probs = lr_final_ridge.predict_proba(X_test)\n",
        "# keep probabilities for the positive outcome only\n",
        "lr_final_ridge_probs = lr_final_ridge_probs[:, 1]\n",
        "\n",
        "# performance\n",
        "print(f'Accuracy : {np.round(accuracy_score(y_test,y_pred_final_ridge),3)}')\n",
        "print(f'Recall : {np.round(recall_score(y_test,y_pred_final_ridge),3)}')\n",
        "print(f'Precision : {np.round(precision_score(y_test,y_pred_final_ridge),3)}')\n",
        "print(f'AUC: {np.round(roc_auc_score(y_test, y_pred_final_ridge),3)}')\n",
        "print(f'Confusion Matrix: \\n{confusion_matrix(y_test, y_pred_final_ridge)}')"
      ],
      "execution_count": 220,
      "outputs": [
        {
          "output_type": "stream",
          "name": "stdout",
          "text": [
            "Accuracy : 0.897\n",
            "Recall : 0.903\n",
            "Precision : 0.401\n",
            "AUC: 0.9\n",
            "Confusion Matrix: \n",
            "[[1680  194]\n",
            " [  14  130]]\n"
          ]
        }
      ]
    },
    {
      "cell_type": "markdown",
      "metadata": {
        "id": "YrmAPiBq1Zzy"
      },
      "source": [
        "The AUC score improved slightely from 0.8962 to 0.90 , the recall also increased to 0.90. These numbers indicate a better model after feature selection."
      ]
    },
    {
      "cell_type": "code",
      "metadata": {
        "id": "bkk5kxN4U539"
      },
      "source": [
        "best_model = lr_final_ridge"
      ],
      "execution_count": 221,
      "outputs": []
    },
    {
      "cell_type": "markdown",
      "metadata": {
        "id": "Ua-XM3yMHp8F"
      },
      "source": [
        "# Approche II : Using Resampling methods"
      ]
    },
    {
      "cell_type": "markdown",
      "metadata": {
        "id": "dLMkloFNZF1e"
      },
      "source": [
        "### Undersampling\n",
        "\n",
        "Before proceeding with the Random UnderSampling technique we have to separate the orginal dataframe. Why? for testing purposes, remember although we are splitting the data when implementing Random UnderSampling or OverSampling techniques, we want to test our models on the original testing set not on the testing set created by either of these techniques. The main goal is to fit the model either with the dataframes that were undersample and oversample (in order for our models to detect the patterns), and test it on the original testing set."
      ]
    },
    {
      "cell_type": "markdown",
      "metadata": {
        "id": "lJ0g2xfgYzdK"
      },
      "source": [
        "### Random Under-Sampling\n",
        "\n",
        "In this phase of the project we will implement \"Random Under Sampling\" which basically consists of removing data in order to have a more balanced dataset and thus avoiding our models to overfitting.\n",
        "\n",
        "Steps:\n",
        "- The first thing we have to do is determine how imbalanced is our class (use \"value_counts()\" on the class column to determine the amount for each label)\n",
        "\n",
        "- Once we determine how many instances are considered No credit (Y = \"0\") , we should bring the no-credit observations to the same amount as yes-credit  (assuming we want a 40/60 ratio), this will be equivalent to 600 cases of no and 400 cases of yes transactions.\n",
        "\n",
        "- After implementing this technique, we have a sub-sample of our dataframe with a 40/60 ratio with regards to our classes. Then the next step we will implement is to shuffle the data to see if our models can maintain a certain accuracy everytime we run this script."
      ]
    },
    {
      "cell_type": "code",
      "metadata": {
        "colab": {
          "base_uri": "https://localhost:8080/"
        },
        "id": "7O3WNyEZZE1n",
        "outputId": "41b6e81b-6bb7-485f-9022-41ef2ad79370"
      },
      "source": [
        "# Lets shuffle the data before creating the subsamples\n",
        "\n",
        "Processed_data = Processed_data.sample(frac=1)\n",
        "\n",
        "# data for testing\n",
        "testing_yes_Processed_data = Processed_data.loc[Processed_data['Y'] == 1][400:]\n",
        "testing_no_Processed_data = Processed_data.loc[Processed_data['Y'] == 0][600:]\n",
        "\n",
        "normal_distributed_testing = pd.concat([testing_yes_Processed_data, testing_no_Processed_data])\n",
        "\n",
        "# Shuffle dataframe rows\n",
        "testing_data = normal_distributed_testing.sample(frac=1, random_state=42)\n",
        "\n",
        "# data for training\n",
        "training_yes_Processed_data = Processed_data.loc[Processed_data['Y'] == 1][:400]\n",
        "training_no_Processed_data = Processed_data.loc[Processed_data['Y'] == 0][:600]\n",
        "\n",
        "normal_distributed_training = pd.concat([training_yes_Processed_data, training_no_Processed_data])\n",
        "\n",
        "# Shuffle dataframe rows\n",
        "training_data = normal_distributed_training.sample(frac=1, random_state=42)\n",
        "\n",
        "print(training_data.shape,testing_data.shape)"
      ],
      "execution_count": 174,
      "outputs": [
        {
          "output_type": "stream",
          "name": "stdout",
          "text": [
            "(1000, 18) (5725, 18)\n"
          ]
        }
      ]
    },
    {
      "cell_type": "code",
      "metadata": {
        "colab": {
          "base_uri": "https://localhost:8080/",
          "height": 377
        },
        "id": "gk5_S_8UZE4M",
        "outputId": "4ed1b4aa-fcaa-4717-8235-631347f60905"
      },
      "source": [
        "# Data for training\n",
        "print('Distribution of the Classes in the subsample dataset')\n",
        "print(training_data['Y'].value_counts()/len(training_data))\n",
        "\n",
        "\n",
        "\n",
        "sns.countplot('Y', data=training_data)\n",
        "plt.title('Equally Distributed Classes', fontsize=14)\n",
        "plt.show()"
      ],
      "execution_count": 175,
      "outputs": [
        {
          "output_type": "stream",
          "name": "stdout",
          "text": [
            "Distribution of the Classes in the subsample dataset\n",
            "0    0.6\n",
            "1    0.4\n",
            "Name: Y, dtype: float64\n"
          ]
        },
        {
          "output_type": "display_data",
          "data": {
            "image/png": "[encoded data removed]",
            "text/plain": [
              "<Figure size 432x288 with 1 Axes>"
            ]
          },
          "metadata": {
            "needs_background": "light"
          }
        }
      ]
    },
    {
      "cell_type": "code",
      "metadata": {
        "colab": {
          "base_uri": "https://localhost:8080/",
          "height": 377
        },
        "id": "heTeJ9cE-M7G",
        "outputId": "c5475409-078b-4ea1-b093-2b537f7071a2"
      },
      "source": [
        "Data for testing\n",
        "print('Distribution of the Classes in the subsample dataset')\n",
        "print(testing_data['Y'].value_counts()/len(testing_data))\n",
        "\n",
        "\n",
        "\n",
        "sns.countplot('Y', data=testing_data)\n",
        "plt.title('Equally Distributed Classes', fontsize=14)\n",
        "plt.show()"
      ],
      "execution_count": 176,
      "outputs": [
        {
          "output_type": "stream",
          "name": "stdout",
          "text": [
            "Distribution of the Classes in the subsample dataset\n",
            "0    0.984279\n",
            "1    0.015721\n",
            "Name: Y, dtype: float64\n"
          ]
        },
        {
          "output_type": "display_data",
          "data": {
            "image/png": "[encoded data removed]",
            "text/plain": [
              "<Figure size 432x288 with 1 Axes>"
            ]
          },
          "metadata": {
            "needs_background": "light"
          }
        }
      ]
    },
    {
      "cell_type": "markdown",
      "metadata": {
        "id": "INpFWEFof-FX"
      },
      "source": [
        "## Modeling :\n",
        "In this section we will train some classifiers and decide which classifier will be more effective in credit scoring. Before we have to split our data into training and testing sets and separate the features from the labels.\n"
      ]
    },
    {
      "cell_type": "code",
      "metadata": {
        "id": "nzuqQXZkZE67"
      },
      "source": [
        "# Undersampling before cross validating (prone to overfit)\n",
        "X = training_data.drop('Y', axis=1)\n",
        "y = training_data['Y']\n",
        "\n",
        "\n",
        "X_test = testing_data.drop('Y', axis=1)\n",
        "y_test = testing_data['Y']\n"
      ],
      "execution_count": 203,
      "outputs": []
    },
    {
      "cell_type": "markdown",
      "metadata": {
        "id": "9SrFN-Qg3Dq5"
      },
      "source": [
        "## Simple Logistic regression"
      ]
    },
    {
      "cell_type": "code",
      "metadata": {
        "colab": {
          "base_uri": "https://localhost:8080/"
        },
        "id": "9EDpPAt93Dq7",
        "outputId": "b29f1e9c-a8a5-4a7e-b8ff-dfb452344a68"
      },
      "source": [
        "# building simple logitic regression model with default weights\n",
        "\n",
        "lr_simple = LogisticRegression(random_state=123,penalty='none', class_weight=None)\n",
        "\n",
        "# fit it\n",
        "lr_simple.fit(X,y)\n",
        "\n",
        "# test\n",
        "y_pred_simple = lr_simple.predict(X_test)\n",
        "\n",
        "lr_simple_probs = lr_simple.predict_proba(X_test)\n",
        "# keep probabilities for the positive outcome only\n",
        "lr_simple_probs = lr_simple_probs[:, 1]\n",
        "                       \n",
        "# performance\n",
        "print(f'Accuracy : {np.round(accuracy_score(y_test,y_pred_simple),3)}')\n",
        "print(f'Recall : {np.round(recall_score(y_test,y_pred_simple),3)}')\n",
        "print(f'Precision : {np.round(precision_score(y_test,y_pred_simple),3)}')\n",
        "print(f'AUC: {np.round(roc_auc_score(y_test, y_pred_simple),3)}')\n",
        "print(f'Confusion Matrix: \\n{confusion_matrix(y_test, y_pred_simple)}')\n"
      ],
      "execution_count": 179,
      "outputs": [
        {
          "output_type": "stream",
          "name": "stdout",
          "text": [
            "Accuracy : 0.906\n",
            "Recall : 0.867\n",
            "Precision : 0.129\n",
            "AUC: 0.887\n",
            "Confusion Matrix: \n",
            "[[5110  525]\n",
            " [  12   78]]\n"
          ]
        }
      ]
    },
    {
      "cell_type": "markdown",
      "metadata": {
        "id": "U_RfcgyXJawz"
      },
      "source": [
        "For minority class, above model is able to predict 78 correct out of 144 samples. For majority class, model got 525 prediction wrong. Model is  doing a good job in predicting minority class in comparison with the simple LR seen in the first approach above."
      ]
    },
    {
      "cell_type": "markdown",
      "metadata": {
        "id": "8W0zSl3O_Cbc"
      },
      "source": [
        "## Penalized Weighted LR with GridSearch : Lasso, Ridge & Elasticnet"
      ]
    },
    {
      "cell_type": "markdown",
      "metadata": {
        "id": "YvNXSCfY_Cbl"
      },
      "source": [
        "### Lasso Regularization\n"
      ]
    },
    {
      "cell_type": "code",
      "metadata": {
        "id": "hjYSkxVK_Cbl"
      },
      "source": [
        "# define hyperparameters\n",
        "inv_reg = [0.01, 0.1, 1, 10,30, 50, 70, 100, 1000]\n",
        "hyperparam_grid = {\"C\": inv_reg\n",
        "                   ,\"fit_intercept\": [True, False]  }"
      ],
      "execution_count": 180,
      "outputs": []
    },
    {
      "cell_type": "code",
      "metadata": {
        "colab": {
          "base_uri": "https://localhost:8080/"
        },
        "id": "MRib4QBf_Cbm",
        "outputId": "a92e8206-ad77-4265-8a84-5fbb4638758f"
      },
      "source": [
        "# logistic model classifier\n",
        "lr_final_lasso = LogisticRegression(random_state=123)\n",
        "# define evaluation procedure\n",
        "grid = GridSearchCV(lr_final_lasso,hyperparam_grid,scoring=\"roc_auc\", cv=5, n_jobs=-1, refit=True)\n",
        "grid.fit(X,y)\n",
        "print(f'Best score: {grid.best_score_} with param: {grid.best_params_}')"
      ],
      "execution_count": 181,
      "outputs": [
        {
          "output_type": "stream",
          "name": "stdout",
          "text": [
            "Best score: 0.9186666666666665 with param: {'C': 70, 'fit_intercept': True}\n"
          ]
        }
      ]
    },
    {
      "cell_type": "code",
      "metadata": {
        "colab": {
          "base_uri": "https://localhost:8080/"
        },
        "id": "dUwIMMCp_Cbm",
        "outputId": "f1fe6265-667d-4840-9980-9cd29f4b0630"
      },
      "source": [
        "# define lr with best params\n",
        "lr_final_lasso = LogisticRegression(random_state=123,C=70,fit_intercept=True, penalty='l1',solver = 'saga')\n",
        "\n",
        "# fit it\n",
        "lr_final_lasso.fit(X,y)\n",
        "\n",
        "# test\n",
        "y_pred_final_lasso = lr_final_lasso.predict(X_test)\n",
        "\n",
        "lr_final_lasso_probs = lr_final_lasso.predict_proba(X_test)\n",
        "# keep probabilities for the positive outcome only\n",
        "lr_final_lasso_probs = lr_final_lasso_probs[:, 1]\n",
        "\n",
        "# performance\n",
        "print(f'Accuracy : {np.round(accuracy_score(y_test,y_pred_final_lasso),3)}')\n",
        "print(f'Recall : {np.round(recall_score(y_test,y_pred_final_lasso),3)}')\n",
        "print(f'Precision : {np.round(precision_score(y_test,y_pred_final_lasso),3)}')\n",
        "print(f'AUC: {np.round(roc_auc_score(y_test, y_pred_final_lasso),3)}')\n",
        "print(f'Confusion Matrix: \\n{confusion_matrix(y_test, y_pred_final_lasso)}')"
      ],
      "execution_count": 182,
      "outputs": [
        {
          "output_type": "stream",
          "name": "stdout",
          "text": [
            "Accuracy : 0.977\n",
            "Recall : 0.256\n",
            "Precision : 0.264\n",
            "AUC: 0.622\n",
            "Confusion Matrix: \n",
            "[[5571   64]\n",
            " [  67   23]]\n"
          ]
        }
      ]
    },
    {
      "cell_type": "markdown",
      "metadata": {
        "id": "d8bQHK9bKFBa"
      },
      "source": [
        "The AUC and the recall dropped drastically. NO CANDY FOR U LASSO"
      ]
    },
    {
      "cell_type": "markdown",
      "metadata": {
        "id": "Ghh8ExDD_Cbm"
      },
      "source": [
        "### Ridge Regularization"
      ]
    },
    {
      "cell_type": "code",
      "metadata": {
        "id": "7B6DHi6l_Cbm"
      },
      "source": [
        "# define hyperparameters\n",
        "inv_reg = [0.01, 0.1, 1, 10,30, 50, 70, 100, 1000]\n",
        "hyperparam_grid = {\"C\": inv_reg,\"fit_intercept\": [True, False]  }"
      ],
      "execution_count": 183,
      "outputs": []
    },
    {
      "cell_type": "code",
      "metadata": {
        "colab": {
          "base_uri": "https://localhost:8080/"
        },
        "id": "NHSt6KKR_Cbn",
        "outputId": "5d938cff-1792-454f-b337-eb1ec7601cba"
      },
      "source": [
        "# logistic model classifier\n",
        "lr_final_ridge = LogisticRegression(random_state=123)\n",
        "# define evaluation procedure\n",
        "grid = GridSearchCV(lr_final_ridge,hyperparam_grid,scoring=\"roc_auc\", cv=5, n_jobs=-1, refit=True)\n",
        "grid.fit(X,y)\n",
        "print(f'Best score: {grid.best_score_} with param: {grid.best_params_}')"
      ],
      "execution_count": 184,
      "outputs": [
        {
          "output_type": "stream",
          "name": "stdout",
          "text": [
            "Best score: 0.9186666666666665 with param: {'C': 70, 'fit_intercept': True}\n"
          ]
        }
      ]
    },
    {
      "cell_type": "code",
      "metadata": {
        "colab": {
          "base_uri": "https://localhost:8080/"
        },
        "id": "yAPEcs30_Cbn",
        "outputId": "36c5c839-7bc5-4eca-8a11-ca78989d57bb"
      },
      "source": [
        "# define lr with best params\n",
        "lr_final_ridge = LogisticRegression(random_state=123,C=70,fit_intercept=True, penalty='l2')\n",
        "\n",
        "# fit it\n",
        "lr_final_ridge.fit(X,y)\n",
        "\n",
        "# test\n",
        "y_pred_final_ridge = lr_final_ridge.predict(X_test)\n",
        "\n",
        "lr_final_ridge_probs = lr_final_ridge.predict_proba(X_test)\n",
        "# keep probabilities for the positive outcome only\n",
        "lr_final_ridge_probs = lr_final_ridge_probs[:, 1]\n",
        "\n",
        "# performance\n",
        "print(f'Accuracy : {np.round(accuracy_score(y_test,y_pred_final_ridge),3)}')\n",
        "print(f'Recall : {np.round(recall_score(y_test,y_pred_final_ridge),3)}')\n",
        "print(f'Precision : {np.round(precision_score(y_test,y_pred_final_ridge),3)}')\n",
        "print(f'AUC: {np.round(roc_auc_score(y_test, y_pred_final_ridge),3)}')\n",
        "print(f'Confusion Matrix: \\n{confusion_matrix(y_test, y_pred_final_ridge)}')"
      ],
      "execution_count": 185,
      "outputs": [
        {
          "output_type": "stream",
          "name": "stdout",
          "text": [
            "Accuracy : 0.906\n",
            "Recall : 0.867\n",
            "Precision : 0.129\n",
            "AUC: 0.887\n",
            "Confusion Matrix: \n",
            "[[5110  525]\n",
            " [  12   78]]\n"
          ]
        }
      ]
    },
    {
      "cell_type": "markdown",
      "metadata": {
        "id": "cK9Mfv3xKork"
      },
      "source": [
        "The Ridge penalty impoves both auc and recall. The stranger thing what we coudnt explain is that Ridge gave same resuts as simple LR even if we set penalty argument to None ( no regularization)."
      ]
    },
    {
      "cell_type": "markdown",
      "metadata": {
        "id": "akE7Mvbd_Cbn"
      },
      "source": [
        "### Elasticnet Regularization"
      ]
    },
    {
      "cell_type": "code",
      "metadata": {
        "id": "XHWv357G_Cbn"
      },
      "source": [
        "# define hyperparameters\n",
        "inv_reg = [0.01, 0.1, 1, 10,30, 50, 70, 100, 1000]\n",
        "l1_ratio = [0.001,0.01,0.1,0.2,0.5,0.8]\n",
        "hyperparam_grid = {\"l1_ratio\" : l1_ratio #if l1_ratio = 1 lasso, if l1_ratio = 0 ridge\n",
        "                   ,\"C\": inv_reg\n",
        "                   ,\"fit_intercept\": [True, False]  }"
      ],
      "execution_count": 186,
      "outputs": []
    },
    {
      "cell_type": "code",
      "metadata": {
        "colab": {
          "base_uri": "https://localhost:8080/"
        },
        "id": "SCgjGSRb_Cbo",
        "outputId": "8d86b138-eed6-41d3-b09e-8c3923f10169"
      },
      "source": [
        "# logistic model classifier\n",
        "lr_final_elastic = LogisticRegression(random_state=123)\n",
        "# define evaluation procedure\n",
        "grid = GridSearchCV(lr_final_elastic,hyperparam_grid,scoring=\"roc_auc\", cv=5, n_jobs=-1, refit=True)\n",
        "grid.fit(X,y)\n",
        "print(f'Best score: {grid.best_score_} with param: {grid.best_params_}')"
      ],
      "execution_count": 187,
      "outputs": [
        {
          "output_type": "stream",
          "name": "stdout",
          "text": [
            "Best score: 0.9186666666666665 with param: {'C': 70, 'fit_intercept': True, 'l1_ratio': 0.001}\n"
          ]
        }
      ]
    },
    {
      "cell_type": "code",
      "metadata": {
        "colab": {
          "base_uri": "https://localhost:8080/"
        },
        "id": "CFnvdcSI_Cbo",
        "outputId": "4bd51dd1-17bd-49c0-b1a0-43b3116e6a0e"
      },
      "source": [
        "# define lr with best params\n",
        "lr_final_elastic = LogisticRegression(random_state=1523,C=70,fit_intercept=True, penalty='elasticnet',l1_ratio=0.001, solver = 'saga')\n",
        "\n",
        "# fit it\n",
        "lr_final_elastic.fit(X,y)\n",
        "\n",
        "# test\n",
        "y_pred_final_elastic = lr_final_elastic.predict(X_test)\n",
        "\n",
        "lr_final_elastic_probs = lr_final_elastic.predict_proba(X_test)\n",
        "# keep probabilities for the positive outcome only\n",
        "lr_final_elastic_probs = lr_final_elastic_probs[:, 1]\n",
        "\n",
        "# performance\n",
        "print(f'Accuracy : {accuracy_score(y_test,y_pred_final_elastic)}')\n",
        "print(f'Recall : {recall_score(y_test,y_pred_final_elastic)}')\n",
        "print(f'Precision : {precision_score(y_test,y_pred_final_elastic)}')\n",
        "print(f'AUC: {roc_auc_score(y_test, y_pred_final_elastic)}')\n",
        "print(f'Confusion Matrix: \\n{confusion_matrix(y_test, y_pred_final_elastic)}')"
      ],
      "execution_count": 189,
      "outputs": [
        {
          "output_type": "stream",
          "name": "stdout",
          "text": [
            "Accuracy : 0.977467248908297\n",
            "Recall : 0.23333333333333334\n",
            "Precision : 0.25925925925925924\n",
            "AUC: 0.6113427979887608\n",
            "Confusion Matrix: \n",
            "[[5575   60]\n",
            " [  69   21]]\n"
          ]
        }
      ]
    },
    {
      "cell_type": "markdown",
      "metadata": {
        "id": "4lffNm69LQMu"
      },
      "source": [
        "the model's performance dropped alot after elasticnet regularization."
      ]
    },
    {
      "cell_type": "markdown",
      "metadata": {
        "id": "LQnRbC9O_7GA"
      },
      "source": [
        "## ROC-Curve visualisation"
      ]
    },
    {
      "cell_type": "code",
      "metadata": {
        "colab": {
          "base_uri": "https://localhost:8080/",
          "height": 527
        },
        "id": "Werb48gB_7GL",
        "outputId": "e093be34-c232-4182-fbd4-6ecd568e48a4"
      },
      "source": [
        "fpr_lr_simple, tpr_lr_simple, threshold = roc_curve(y_test, lr_simple_probs)\n",
        "fpr_lr_final_lasso, tpr_lr_final_lasso, threshold_lasso = roc_curve(y_test, lr_final_lasso_probs)\n",
        "fpr_lr_final_ridge, tpr_lr_final_ridge, threshold_ridge = roc_curve(y_test, lr_final_ridge_probs)\n",
        "fpr_lr_final_elastic, tpr_lr_final_elastic, threshold_elastic = roc_curve(y_test, lr_final_elastic_probs)\n",
        "\n",
        "\n",
        "\n",
        "def graph_roc_curve_multiple(fpr_lr_simple, tpr_lr_simple,fpr_lr_final_lasso, tpr_lr_final_lasso, fpr_lr_final_ridge, tpr_lr_final_ridge,fpr_lr_final_elastic, tpr_lr_final_elastic):\n",
        "    plt.figure(figsize=(16,8))\n",
        "    plt.title('ROC Curve', fontsize=18)\n",
        "    \n",
        "    plt.plot(fpr_lr_simple, tpr_lr_simple, label='Simple LR AUC score: {:.4f}'.format(roc_auc_score(y_test, y_pred_simple)))\n",
        "\n",
        "    plt.plot(fpr_lr_final_lasso, tpr_lr_final_lasso, label='LR + HT + lasso  \\n AUC score: {:.4f}'.format(roc_auc_score(y_test, y_pred_final_lasso)))\n",
        "    plt.plot(fpr_lr_final_ridge, tpr_lr_final_ridge, label=' LR + HT + Ridge  \\n AUC score: {:.4f}'.format(roc_auc_score(y_test, y_pred_final_ridge)))\n",
        "    plt.plot(fpr_lr_final_elastic, tpr_lr_final_elastic, label=' LR + HT + elasticnet  \\n AUC score: {:.4f}'.format(roc_auc_score(y_test, y_pred_final_elastic)))\n",
        "\n",
        "    plt.plot([0, 1], [0, 1], 'k--')\n",
        "    plt.axis([-0.01, 1, 0, 1])\n",
        "    plt.xlabel('False Positive Rate', fontsize=16)\n",
        "    plt.ylabel('True Positive Rate', fontsize=16)\n",
        "    \n",
        "    plt.legend()\n",
        "    \n",
        "graph_roc_curve_multiple(fpr_lr_simple, tpr_lr_simple,fpr_lr_final_lasso, tpr_lr_final_lasso, fpr_lr_final_ridge, tpr_lr_final_ridge,fpr_lr_final_elastic, tpr_lr_final_elastic)\n",
        "plt.show()"
      ],
      "execution_count": 192,
      "outputs": [
        {
          "output_type": "display_data",
          "data": {
            "image/png": "[encoded data removed]",
            "text/plain": [
              "<Figure size 1152x576 with 1 Axes>"
            ]
          },
          "metadata": {
            "needs_background": "light"
          }
        }
      ]
    },
    {
      "cell_type": "markdown",
      "metadata": {
        "id": "SQPEuErGL5oj"
      },
      "source": [
        "From the Roc_curve we can notice that :\n",
        "- Simple LR and LR with Ridge penalty are the best models in terms of roc auc score.\n",
        "- Lasso and elasticnet regularization didnt go well in this case."
      ]
    },
    {
      "cell_type": "markdown",
      "metadata": {
        "id": "tvwJsFC-L3kw"
      },
      "source": [
        "## Feature importance :  LR + HT + Ridge penalty ( best model)\n",
        "\n",
        "For further imporvement of the model, we can apply feature importances to have an idea about the features we can select and the \"useless\" features to get rid of them."
      ]
    },
    {
      "cell_type": "code",
      "metadata": {
        "colab": {
          "base_uri": "https://localhost:8080/",
          "height": 481
        },
        "id": "Qlnp3VzVL3kw",
        "outputId": "ddfbd7a8-c1d2-428b-c8ea-367b54834a45"
      },
      "source": [
        "#importance = lr_final_ridge.coef_[0]\n",
        "feats = {} # a dict to hold feature_name: feature_importance\n",
        "for feature, importance in zip(X.columns, lr_final_ridge.coef_[0]):\n",
        "    feats[feature] = importance #add the name/value pair \n",
        "\n",
        "importances = pd.DataFrame.from_dict(feats, orient='index').rename(columns={0: 'Gini-importance'})\n",
        "importances.sort_values(by='Gini-importance').plot(kind='bar', rot=90)"
      ],
      "execution_count": 195,
      "outputs": [
        {
          "output_type": "execute_result",
          "data": {
            "text/plain": [
              "<matplotlib.axes._subplots.AxesSubplot at 0x7f80044b5790>"
            ]
          },
          "metadata": {},
          "execution_count": 195
        },
        {
          "output_type": "display_data",
          "data": {
            "image/png": "[encoded data removed]",
            "text/plain": [
              "<Figure size 432x288 with 1 Axes>"
            ]
          },
          "metadata": {
            "needs_background": "light"
          }
        }
      ]
    },
    {
      "cell_type": "markdown",
      "metadata": {
        "id": "evUgOKwDL3kx"
      },
      "source": [
        "- The positive scores mean that the features corresponding contribute the most on predicting the postive class:1, while the negative scores corresponds to improrntant features in predicting the class:0.\n",
        "- Based on the figure above, we can say that the features: \n",
        "\n",
        "**{''scaled_Years_At_Business', 'scaled_Net_Annual_Income', 'scaled_Anciennete_Client'}** are somehow \"insignificant\" to the model (weak impact on prediction). In the next step we will remove them to see if our model will achieve any improvement."
      ]
    },
    {
      "cell_type": "code",
      "metadata": {
        "id": "8_uBW_xuL3kx"
      },
      "source": [
        "new_X = X.drop(['scaled_Years_At_Business','scaled_Net_Annual_Income','scaled_Anciennete_Client'],axis = 1)\n",
        "X_test = X_test.drop(['scaled_Years_At_Business','scaled_Net_Annual_Income','scaled_Anciennete_Client'],axis = 1)"
      ],
      "execution_count": 210,
      "outputs": []
    },
    {
      "cell_type": "code",
      "metadata": {
        "id": "3jiTBFiIL3kx"
      },
      "source": [
        "# define hyperparameters\n",
        "inv_reg = [0.01, 0.1, 1, 10,30, 50, 70, 100, 1000]\n",
        "hyperparam_grid = {\"C\": inv_reg\n",
        "                   ,\"fit_intercept\": [True, False]  }"
      ],
      "execution_count": 211,
      "outputs": []
    },
    {
      "cell_type": "code",
      "metadata": {
        "colab": {
          "base_uri": "https://localhost:8080/"
        },
        "id": "tl2xxfx1L3kx",
        "outputId": "3b2402d9-ce0a-4ffb-91b4-4a05b3972528"
      },
      "source": [
        "# logistic model classifier\n",
        "lr_final_ridge = LogisticRegression(random_state=123)\n",
        "# define evaluation procedure\n",
        "grid = GridSearchCV(lr_final_ridge,hyperparam_grid,scoring=\"roc_auc\", cv=5, n_jobs=-1, refit=True)\n",
        "grid.fit(new_X,y)\n",
        "print(f'Best score: {grid.best_score_} with param: {grid.best_params_}')"
      ],
      "execution_count": 212,
      "outputs": [
        {
          "output_type": "stream",
          "name": "stdout",
          "text": [
            "Best score: 0.9176666666666666 with param: {'C': 70, 'fit_intercept': True}\n"
          ]
        }
      ]
    },
    {
      "cell_type": "code",
      "metadata": {
        "colab": {
          "base_uri": "https://localhost:8080/"
        },
        "id": "r4s4hNe9L3kx",
        "outputId": "c9fbaf6c-54e7-4c1c-91f9-daf0d5d1c458"
      },
      "source": [
        "# define lr with best params\n",
        "lr_final_ridge = LogisticRegression(random_state=123,C=70,fit_intercept=True, penalty='l2')\n",
        "\n",
        "# fit it\n",
        "lr_final_ridge.fit(new_X,y)\n",
        "\n",
        "# test\n",
        "y_pred_final_ridge = lr_final_ridge.predict(X_test)\n",
        "\n",
        "lr_final_ridge_probs = lr_final_ridge.predict_proba(X_test)\n",
        "# keep probabilities for the positive outcome only\n",
        "lr_final_ridge_probs = lr_final_ridge_probs[:, 1]\n",
        "\n",
        "# performance\n",
        "print(f'Accuracy : {np.round(accuracy_score(y_test,y_pred_final_ridge),3)}')\n",
        "print(f'Recall : {np.round(recall_score(y_test,y_pred_final_ridge),3)}')\n",
        "print(f'Precision : {np.round(precision_score(y_test,y_pred_final_ridge),3)}')\n",
        "print(f'AUC: {np.round(roc_auc_score(y_test, y_pred_final_ridge),3)}')\n",
        "print(f'Confusion Matrix: \\n{confusion_matrix(y_test, y_pred_final_ridge)}')"
      ],
      "execution_count": 213,
      "outputs": [
        {
          "output_type": "stream",
          "name": "stdout",
          "text": [
            "Accuracy : 0.905\n",
            "Recall : 0.867\n",
            "Precision : 0.128\n",
            "AUC: 0.886\n",
            "Confusion Matrix: \n",
            "[[5104  531]\n",
            " [  12   78]]\n"
          ]
        }
      ]
    },
    {
      "cell_type": "markdown",
      "metadata": {
        "id": "tucjsxLQL3ky"
      },
      "source": [
        "The model performances didnt improve, the model shows more wron predictions for the majority class while the predictions stats for minority class stays the same."
      ]
    },
    {
      "cell_type": "markdown",
      "metadata": {
        "id": "lrXcxGk0PGeK"
      },
      "source": [
        "# Conclusion :\n",
        "\n",
        "In this notebook, we tried to predict if the credit will be garanted or not based on imbalanced data. First, we cleaned the data and tried to create new features in feature engineering section. after, we scaled the data to avoid the fact that the range of values in our data varies widely and also to make the models work better. In the modeling step, we used two approaches, the first using weights method which is implemented in Logistic regression model with a ratio of 7:93 to balance the data. for the second approach, we used Random undersampling method to split the data into 400:600 obervations ratio (class 1 : class 0) for training process and 90:the rest (.resp), for the testing step. In other words, we trained our model on balanced data and we test it on imblanced data afterwards. The main objectif is to deal with the problem of imbalanced data.\n",
        "The two approachs worked fine, we noticed that Logistic regression with Ridge penalty was the better in both approaches. In terms of ROC-AUC score, the weights approach resulted in a score of 0.90 while the undersampling approch score was 0.889. These numbers dont mean that the first approach is always better than the second, because it always depends on the data. Besides, we could try oversampling technique, but we think that the notebook content is way enough as tackle the imblanacing problem."
      ]
    },
    {
      "cell_type": "markdown",
      "metadata": {
        "id": "I479X97MUDmO"
      },
      "source": [
        "# Pickle the best model \n",
        "\n",
        "we pickled the best model in the whole analysis for any testing purposes"
      ]
    },
    {
      "cell_type": "code",
      "metadata": {
        "id": "pfLf6dHEUAGh"
      },
      "source": [
        "import pickle\n",
        "\n",
        "pickle.dump(best_model, open(\"/content/best_model.pkl\", \"wb\"))"
      ],
      "execution_count": 224,
      "outputs": []
    }
  ]
}